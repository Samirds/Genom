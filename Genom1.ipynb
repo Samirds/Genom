{
 "cells": [
  {
   "cell_type": "code",
   "execution_count": 1,
   "metadata": {},
   "outputs": [],
   "source": [
    "import pandas as pd\n",
    "import numpy as np\n",
    "import seaborn as sns\n",
    "import matplotlib.pyplot as plt\n",
    "%matplotlib inline"
   ]
  },
  {
   "cell_type": "code",
   "execution_count": 2,
   "metadata": {
    "scrolled": true
   },
   "outputs": [
    {
     "name": "stdout",
     "output_type": "stream",
     "text": [
      "(22083, 45)\n"
     ]
    },
    {
     "data": {
      "text/html": [
       "<div>\n",
       "<style scoped>\n",
       "    .dataframe tbody tr th:only-of-type {\n",
       "        vertical-align: middle;\n",
       "    }\n",
       "\n",
       "    .dataframe tbody tr th {\n",
       "        vertical-align: top;\n",
       "    }\n",
       "\n",
       "    .dataframe thead th {\n",
       "        text-align: right;\n",
       "    }\n",
       "</style>\n",
       "<table border=\"1\" class=\"dataframe\">\n",
       "  <thead>\n",
       "    <tr style=\"text-align: right;\">\n",
       "      <th></th>\n",
       "      <th>Patient Id</th>\n",
       "      <th>Patient Age</th>\n",
       "      <th>Genes in mother's side</th>\n",
       "      <th>Inherited from father</th>\n",
       "      <th>Maternal gene</th>\n",
       "      <th>Paternal gene</th>\n",
       "      <th>Blood cell count (mcL)</th>\n",
       "      <th>Patient First Name</th>\n",
       "      <th>Family Name</th>\n",
       "      <th>Father's name</th>\n",
       "      <th>Mother's age</th>\n",
       "      <th>Father's age</th>\n",
       "      <th>Institute Name</th>\n",
       "      <th>Location of Institute</th>\n",
       "      <th>Status</th>\n",
       "      <th>Respiratory Rate (breaths/min)</th>\n",
       "      <th>Heart Rate (rates/min</th>\n",
       "      <th>Test 1</th>\n",
       "      <th>Test 2</th>\n",
       "      <th>Test 3</th>\n",
       "      <th>Test 4</th>\n",
       "      <th>Test 5</th>\n",
       "      <th>Parental consent</th>\n",
       "      <th>Follow-up</th>\n",
       "      <th>Gender</th>\n",
       "      <th>Birth asphyxia</th>\n",
       "      <th>Autopsy shows birth defect (if applicable)</th>\n",
       "      <th>Place of birth</th>\n",
       "      <th>Folic acid details (peri-conceptional)</th>\n",
       "      <th>H/O serious maternal illness</th>\n",
       "      <th>H/O radiation exposure (x-ray)</th>\n",
       "      <th>H/O substance abuse</th>\n",
       "      <th>Assisted conception IVF/ART</th>\n",
       "      <th>History of anomalies in previous pregnancies</th>\n",
       "      <th>No. of previous abortion</th>\n",
       "      <th>Birth defects</th>\n",
       "      <th>White Blood cell count (thousand per microliter)</th>\n",
       "      <th>Blood test result</th>\n",
       "      <th>Symptom 1</th>\n",
       "      <th>Symptom 2</th>\n",
       "      <th>Symptom 3</th>\n",
       "      <th>Symptom 4</th>\n",
       "      <th>Symptom 5</th>\n",
       "      <th>Genetic Disorder</th>\n",
       "      <th>Disorder Subclass</th>\n",
       "    </tr>\n",
       "  </thead>\n",
       "  <tbody>\n",
       "    <tr>\n",
       "      <th>0</th>\n",
       "      <td>PID0x6418</td>\n",
       "      <td>2.0</td>\n",
       "      <td>Yes</td>\n",
       "      <td>No</td>\n",
       "      <td>Yes</td>\n",
       "      <td>No</td>\n",
       "      <td>4.760603</td>\n",
       "      <td>Richard</td>\n",
       "      <td>NaN</td>\n",
       "      <td>Larre</td>\n",
       "      <td>NaN</td>\n",
       "      <td>NaN</td>\n",
       "      <td>Boston Specialty &amp; Rehabilitation Hospital</td>\n",
       "      <td>55 FRUIT ST\\nCENTRAL, MA 02114\\n(42.3624748574...</td>\n",
       "      <td>Alive</td>\n",
       "      <td>Normal (30-60)</td>\n",
       "      <td>Normal</td>\n",
       "      <td>0.0</td>\n",
       "      <td>NaN</td>\n",
       "      <td>NaN</td>\n",
       "      <td>1.0</td>\n",
       "      <td>0.0</td>\n",
       "      <td>Yes</td>\n",
       "      <td>High</td>\n",
       "      <td>NaN</td>\n",
       "      <td>NaN</td>\n",
       "      <td>Not applicable</td>\n",
       "      <td>Institute</td>\n",
       "      <td>No</td>\n",
       "      <td>NaN</td>\n",
       "      <td>No</td>\n",
       "      <td>No</td>\n",
       "      <td>No</td>\n",
       "      <td>Yes</td>\n",
       "      <td>NaN</td>\n",
       "      <td>NaN</td>\n",
       "      <td>9.857562</td>\n",
       "      <td>NaN</td>\n",
       "      <td>1.0</td>\n",
       "      <td>1.0</td>\n",
       "      <td>1.0</td>\n",
       "      <td>1.0</td>\n",
       "      <td>1.0</td>\n",
       "      <td>Mitochondrial genetic inheritance disorders</td>\n",
       "      <td>Leber's hereditary optic neuropathy</td>\n",
       "    </tr>\n",
       "    <tr>\n",
       "      <th>1</th>\n",
       "      <td>PID0x25d5</td>\n",
       "      <td>4.0</td>\n",
       "      <td>Yes</td>\n",
       "      <td>Yes</td>\n",
       "      <td>No</td>\n",
       "      <td>No</td>\n",
       "      <td>4.910669</td>\n",
       "      <td>Mike</td>\n",
       "      <td>NaN</td>\n",
       "      <td>Brycen</td>\n",
       "      <td>NaN</td>\n",
       "      <td>23.0</td>\n",
       "      <td>St. Margaret's Hospital For Women</td>\n",
       "      <td>1515 COMMONWEALTH AV\\nALLSTON/BRIGHTON, MA 021...</td>\n",
       "      <td>Deceased</td>\n",
       "      <td>Tachypnea</td>\n",
       "      <td>Normal</td>\n",
       "      <td>NaN</td>\n",
       "      <td>0.0</td>\n",
       "      <td>0.0</td>\n",
       "      <td>1.0</td>\n",
       "      <td>0.0</td>\n",
       "      <td>Yes</td>\n",
       "      <td>High</td>\n",
       "      <td>NaN</td>\n",
       "      <td>No</td>\n",
       "      <td>None</td>\n",
       "      <td>NaN</td>\n",
       "      <td>Yes</td>\n",
       "      <td>Yes</td>\n",
       "      <td>Not applicable</td>\n",
       "      <td>Not applicable</td>\n",
       "      <td>No</td>\n",
       "      <td>Yes</td>\n",
       "      <td>NaN</td>\n",
       "      <td>Multiple</td>\n",
       "      <td>5.522560</td>\n",
       "      <td>normal</td>\n",
       "      <td>1.0</td>\n",
       "      <td>NaN</td>\n",
       "      <td>1.0</td>\n",
       "      <td>1.0</td>\n",
       "      <td>0.0</td>\n",
       "      <td>NaN</td>\n",
       "      <td>Cystic fibrosis</td>\n",
       "    </tr>\n",
       "  </tbody>\n",
       "</table>\n",
       "</div>"
      ],
      "text/plain": [
       "  Patient Id  Patient Age Genes in mother's side Inherited from father  \\\n",
       "0  PID0x6418          2.0                    Yes                    No   \n",
       "1  PID0x25d5          4.0                    Yes                   Yes   \n",
       "\n",
       "  Maternal gene Paternal gene  Blood cell count (mcL) Patient First Name  \\\n",
       "0           Yes            No                4.760603            Richard   \n",
       "1            No            No                4.910669               Mike   \n",
       "\n",
       "  Family Name Father's name  Mother's age  Father's age  \\\n",
       "0         NaN         Larre           NaN           NaN   \n",
       "1         NaN        Brycen           NaN          23.0   \n",
       "\n",
       "                               Institute Name  \\\n",
       "0  Boston Specialty & Rehabilitation Hospital   \n",
       "1           St. Margaret's Hospital For Women   \n",
       "\n",
       "                               Location of Institute    Status  \\\n",
       "0  55 FRUIT ST\\nCENTRAL, MA 02114\\n(42.3624748574...     Alive   \n",
       "1  1515 COMMONWEALTH AV\\nALLSTON/BRIGHTON, MA 021...  Deceased   \n",
       "\n",
       "  Respiratory Rate (breaths/min) Heart Rate (rates/min  Test 1  Test 2  \\\n",
       "0                 Normal (30-60)                Normal     0.0     NaN   \n",
       "1                      Tachypnea                Normal     NaN     0.0   \n",
       "\n",
       "   Test 3  Test 4  Test 5 Parental consent Follow-up Gender Birth asphyxia  \\\n",
       "0     NaN     1.0     0.0              Yes      High    NaN            NaN   \n",
       "1     0.0     1.0     0.0              Yes      High    NaN             No   \n",
       "\n",
       "  Autopsy shows birth defect (if applicable) Place of birth  \\\n",
       "0                             Not applicable      Institute   \n",
       "1                                       None            NaN   \n",
       "\n",
       "  Folic acid details (peri-conceptional) H/O serious maternal illness  \\\n",
       "0                                     No                          NaN   \n",
       "1                                    Yes                          Yes   \n",
       "\n",
       "  H/O radiation exposure (x-ray) H/O substance abuse  \\\n",
       "0                             No                  No   \n",
       "1                 Not applicable      Not applicable   \n",
       "\n",
       "  Assisted conception IVF/ART History of anomalies in previous pregnancies  \\\n",
       "0                          No                                          Yes   \n",
       "1                          No                                          Yes   \n",
       "\n",
       "   No. of previous abortion Birth defects  \\\n",
       "0                       NaN           NaN   \n",
       "1                       NaN      Multiple   \n",
       "\n",
       "   White Blood cell count (thousand per microliter) Blood test result  \\\n",
       "0                                          9.857562               NaN   \n",
       "1                                          5.522560            normal   \n",
       "\n",
       "   Symptom 1  Symptom 2  Symptom 3  Symptom 4  Symptom 5  \\\n",
       "0        1.0        1.0        1.0        1.0        1.0   \n",
       "1        1.0        NaN        1.0        1.0        0.0   \n",
       "\n",
       "                              Genetic Disorder  \\\n",
       "0  Mitochondrial genetic inheritance disorders   \n",
       "1                                          NaN   \n",
       "\n",
       "                     Disorder Subclass  \n",
       "0  Leber's hereditary optic neuropathy  \n",
       "1                      Cystic fibrosis  "
      ]
     },
     "execution_count": 2,
     "metadata": {},
     "output_type": "execute_result"
    }
   ],
   "source": [
    "pd.set_option(\"display.max_column\", None)\n",
    "df = pd.read_csv(\"train.csv\")\n",
    "print(df.shape)\n",
    "df.head(2)"
   ]
  },
  {
   "cell_type": "code",
   "execution_count": null,
   "metadata": {},
   "outputs": [],
   "source": []
  },
  {
   "cell_type": "code",
   "execution_count": 3,
   "metadata": {
    "scrolled": true
   },
   "outputs": [
    {
     "data": {
      "text/html": [
       "<div>\n",
       "<style scoped>\n",
       "    .dataframe tbody tr th:only-of-type {\n",
       "        vertical-align: middle;\n",
       "    }\n",
       "\n",
       "    .dataframe tbody tr th {\n",
       "        vertical-align: top;\n",
       "    }\n",
       "\n",
       "    .dataframe thead th {\n",
       "        text-align: right;\n",
       "    }\n",
       "</style>\n",
       "<table border=\"1\" class=\"dataframe\">\n",
       "  <thead>\n",
       "    <tr style=\"text-align: right;\">\n",
       "      <th></th>\n",
       "      <th>Patient Age</th>\n",
       "      <th>Blood cell count (mcL)</th>\n",
       "      <th>Mother's age</th>\n",
       "      <th>Father's age</th>\n",
       "      <th>Test 1</th>\n",
       "      <th>Test 2</th>\n",
       "      <th>Test 3</th>\n",
       "      <th>Test 4</th>\n",
       "      <th>Test 5</th>\n",
       "      <th>No. of previous abortion</th>\n",
       "      <th>White Blood cell count (thousand per microliter)</th>\n",
       "      <th>Symptom 1</th>\n",
       "      <th>Symptom 2</th>\n",
       "      <th>Symptom 3</th>\n",
       "      <th>Symptom 4</th>\n",
       "      <th>Symptom 5</th>\n",
       "    </tr>\n",
       "  </thead>\n",
       "  <tbody>\n",
       "    <tr>\n",
       "      <th>count</th>\n",
       "      <td>20656.000000</td>\n",
       "      <td>22083.000000</td>\n",
       "      <td>16047.000000</td>\n",
       "      <td>16097.000000</td>\n",
       "      <td>19956.0</td>\n",
       "      <td>19931.0</td>\n",
       "      <td>19936.0</td>\n",
       "      <td>19943.0</td>\n",
       "      <td>19913.0</td>\n",
       "      <td>19921.000000</td>\n",
       "      <td>19935.000000</td>\n",
       "      <td>19928.000000</td>\n",
       "      <td>19861.000000</td>\n",
       "      <td>19982.000000</td>\n",
       "      <td>19970.000000</td>\n",
       "      <td>19930.000000</td>\n",
       "    </tr>\n",
       "    <tr>\n",
       "      <th>mean</th>\n",
       "      <td>6.974148</td>\n",
       "      <td>4.898871</td>\n",
       "      <td>34.526454</td>\n",
       "      <td>41.972852</td>\n",
       "      <td>0.0</td>\n",
       "      <td>0.0</td>\n",
       "      <td>0.0</td>\n",
       "      <td>1.0</td>\n",
       "      <td>0.0</td>\n",
       "      <td>2.003062</td>\n",
       "      <td>7.486224</td>\n",
       "      <td>0.592483</td>\n",
       "      <td>0.551886</td>\n",
       "      <td>0.536233</td>\n",
       "      <td>0.497747</td>\n",
       "      <td>0.461917</td>\n",
       "    </tr>\n",
       "    <tr>\n",
       "      <th>std</th>\n",
       "      <td>4.319475</td>\n",
       "      <td>0.199663</td>\n",
       "      <td>9.852598</td>\n",
       "      <td>13.035501</td>\n",
       "      <td>0.0</td>\n",
       "      <td>0.0</td>\n",
       "      <td>0.0</td>\n",
       "      <td>0.0</td>\n",
       "      <td>0.0</td>\n",
       "      <td>1.411919</td>\n",
       "      <td>2.653393</td>\n",
       "      <td>0.491385</td>\n",
       "      <td>0.497313</td>\n",
       "      <td>0.498698</td>\n",
       "      <td>0.500007</td>\n",
       "      <td>0.498560</td>\n",
       "    </tr>\n",
       "    <tr>\n",
       "      <th>min</th>\n",
       "      <td>0.000000</td>\n",
       "      <td>4.092727</td>\n",
       "      <td>18.000000</td>\n",
       "      <td>20.000000</td>\n",
       "      <td>0.0</td>\n",
       "      <td>0.0</td>\n",
       "      <td>0.0</td>\n",
       "      <td>1.0</td>\n",
       "      <td>0.0</td>\n",
       "      <td>0.000000</td>\n",
       "      <td>3.000000</td>\n",
       "      <td>0.000000</td>\n",
       "      <td>0.000000</td>\n",
       "      <td>0.000000</td>\n",
       "      <td>0.000000</td>\n",
       "      <td>0.000000</td>\n",
       "    </tr>\n",
       "    <tr>\n",
       "      <th>25%</th>\n",
       "      <td>3.000000</td>\n",
       "      <td>4.763109</td>\n",
       "      <td>26.000000</td>\n",
       "      <td>31.000000</td>\n",
       "      <td>0.0</td>\n",
       "      <td>0.0</td>\n",
       "      <td>0.0</td>\n",
       "      <td>1.0</td>\n",
       "      <td>0.0</td>\n",
       "      <td>1.000000</td>\n",
       "      <td>5.424703</td>\n",
       "      <td>0.000000</td>\n",
       "      <td>0.000000</td>\n",
       "      <td>0.000000</td>\n",
       "      <td>0.000000</td>\n",
       "      <td>0.000000</td>\n",
       "    </tr>\n",
       "    <tr>\n",
       "      <th>50%</th>\n",
       "      <td>7.000000</td>\n",
       "      <td>4.899399</td>\n",
       "      <td>35.000000</td>\n",
       "      <td>42.000000</td>\n",
       "      <td>0.0</td>\n",
       "      <td>0.0</td>\n",
       "      <td>0.0</td>\n",
       "      <td>1.0</td>\n",
       "      <td>0.0</td>\n",
       "      <td>2.000000</td>\n",
       "      <td>7.477132</td>\n",
       "      <td>1.000000</td>\n",
       "      <td>1.000000</td>\n",
       "      <td>1.000000</td>\n",
       "      <td>0.000000</td>\n",
       "      <td>0.000000</td>\n",
       "    </tr>\n",
       "    <tr>\n",
       "      <th>75%</th>\n",
       "      <td>11.000000</td>\n",
       "      <td>5.033830</td>\n",
       "      <td>43.000000</td>\n",
       "      <td>53.000000</td>\n",
       "      <td>0.0</td>\n",
       "      <td>0.0</td>\n",
       "      <td>0.0</td>\n",
       "      <td>1.0</td>\n",
       "      <td>0.0</td>\n",
       "      <td>3.000000</td>\n",
       "      <td>9.526152</td>\n",
       "      <td>1.000000</td>\n",
       "      <td>1.000000</td>\n",
       "      <td>1.000000</td>\n",
       "      <td>1.000000</td>\n",
       "      <td>1.000000</td>\n",
       "    </tr>\n",
       "    <tr>\n",
       "      <th>max</th>\n",
       "      <td>14.000000</td>\n",
       "      <td>5.609829</td>\n",
       "      <td>51.000000</td>\n",
       "      <td>64.000000</td>\n",
       "      <td>0.0</td>\n",
       "      <td>0.0</td>\n",
       "      <td>0.0</td>\n",
       "      <td>1.0</td>\n",
       "      <td>0.0</td>\n",
       "      <td>4.000000</td>\n",
       "      <td>12.000000</td>\n",
       "      <td>1.000000</td>\n",
       "      <td>1.000000</td>\n",
       "      <td>1.000000</td>\n",
       "      <td>1.000000</td>\n",
       "      <td>1.000000</td>\n",
       "    </tr>\n",
       "  </tbody>\n",
       "</table>\n",
       "</div>"
      ],
      "text/plain": [
       "        Patient Age  Blood cell count (mcL)  Mother's age  Father's age  \\\n",
       "count  20656.000000            22083.000000  16047.000000  16097.000000   \n",
       "mean       6.974148                4.898871     34.526454     41.972852   \n",
       "std        4.319475                0.199663      9.852598     13.035501   \n",
       "min        0.000000                4.092727     18.000000     20.000000   \n",
       "25%        3.000000                4.763109     26.000000     31.000000   \n",
       "50%        7.000000                4.899399     35.000000     42.000000   \n",
       "75%       11.000000                5.033830     43.000000     53.000000   \n",
       "max       14.000000                5.609829     51.000000     64.000000   \n",
       "\n",
       "        Test 1   Test 2   Test 3   Test 4   Test 5  No. of previous abortion  \\\n",
       "count  19956.0  19931.0  19936.0  19943.0  19913.0              19921.000000   \n",
       "mean       0.0      0.0      0.0      1.0      0.0                  2.003062   \n",
       "std        0.0      0.0      0.0      0.0      0.0                  1.411919   \n",
       "min        0.0      0.0      0.0      1.0      0.0                  0.000000   \n",
       "25%        0.0      0.0      0.0      1.0      0.0                  1.000000   \n",
       "50%        0.0      0.0      0.0      1.0      0.0                  2.000000   \n",
       "75%        0.0      0.0      0.0      1.0      0.0                  3.000000   \n",
       "max        0.0      0.0      0.0      1.0      0.0                  4.000000   \n",
       "\n",
       "       White Blood cell count (thousand per microliter)     Symptom 1  \\\n",
       "count                                      19935.000000  19928.000000   \n",
       "mean                                           7.486224      0.592483   \n",
       "std                                            2.653393      0.491385   \n",
       "min                                            3.000000      0.000000   \n",
       "25%                                            5.424703      0.000000   \n",
       "50%                                            7.477132      1.000000   \n",
       "75%                                            9.526152      1.000000   \n",
       "max                                           12.000000      1.000000   \n",
       "\n",
       "          Symptom 2     Symptom 3     Symptom 4     Symptom 5  \n",
       "count  19861.000000  19982.000000  19970.000000  19930.000000  \n",
       "mean       0.551886      0.536233      0.497747      0.461917  \n",
       "std        0.497313      0.498698      0.500007      0.498560  \n",
       "min        0.000000      0.000000      0.000000      0.000000  \n",
       "25%        0.000000      0.000000      0.000000      0.000000  \n",
       "50%        1.000000      1.000000      0.000000      0.000000  \n",
       "75%        1.000000      1.000000      1.000000      1.000000  \n",
       "max        1.000000      1.000000      1.000000      1.000000  "
      ]
     },
     "execution_count": 3,
     "metadata": {},
     "output_type": "execute_result"
    }
   ],
   "source": [
    "df.describe()"
   ]
  },
  {
   "cell_type": "code",
   "execution_count": 4,
   "metadata": {
    "scrolled": true
   },
   "outputs": [
    {
     "data": {
      "text/plain": [
       "Patient Id                                             0\n",
       "Patient Age                                         1427\n",
       "Genes in mother's side                                 0\n",
       "Inherited from father                                306\n",
       "Maternal gene                                       2810\n",
       "Paternal gene                                          0\n",
       "Blood cell count (mcL)                                 0\n",
       "Patient First Name                                     0\n",
       "Family Name                                         9691\n",
       "Father's name                                          0\n",
       "Mother's age                                        6036\n",
       "Father's age                                        5986\n",
       "Institute Name                                      5106\n",
       "Location of Institute                                  0\n",
       "Status                                                 0\n",
       "Respiratory Rate (breaths/min)                      2149\n",
       "Heart Rate (rates/min                               2113\n",
       "Test 1                                              2127\n",
       "Test 2                                              2152\n",
       "Test 3                                              2147\n",
       "Test 4                                              2140\n",
       "Test 5                                              2170\n",
       "Parental consent                                    2125\n",
       "Follow-up                                           2166\n",
       "Gender                                              2173\n",
       "Birth asphyxia                                      2139\n",
       "Autopsy shows birth defect (if applicable)          1026\n",
       "Place of birth                                      2124\n",
       "Folic acid details (peri-conceptional)              2117\n",
       "H/O serious maternal illness                        2152\n",
       "H/O radiation exposure (x-ray)                      2153\n",
       "H/O substance abuse                                 2195\n",
       "Assisted conception IVF/ART                         2122\n",
       "History of anomalies in previous pregnancies        2172\n",
       "No. of previous abortion                            2162\n",
       "Birth defects                                       2154\n",
       "White Blood cell count (thousand per microliter)    2148\n",
       "Blood test result                                   2145\n",
       "Symptom 1                                           2155\n",
       "Symptom 2                                           2222\n",
       "Symptom 3                                           2101\n",
       "Symptom 4                                           2113\n",
       "Symptom 5                                           2153\n",
       "Genetic Disorder                                    2146\n",
       "Disorder Subclass                                   2168\n",
       "dtype: int64"
      ]
     },
     "execution_count": 4,
     "metadata": {},
     "output_type": "execute_result"
    }
   ],
   "source": [
    "df.isnull().sum()"
   ]
  },
  {
   "cell_type": "markdown",
   "metadata": {},
   "source": [
    "###  Checking for data Imbalanceness"
   ]
  },
  {
   "cell_type": "code",
   "execution_count": 5,
   "metadata": {},
   "outputs": [
    {
     "data": {
      "text/plain": [
       "Leigh syndrome                         5160\n",
       "Mitochondrial myopathy                 4405\n",
       "Cystic fibrosis                        3448\n",
       "Tay-Sachs                              2833\n",
       "Diabetes                               1817\n",
       "Hemochromatosis                        1355\n",
       "Leber's hereditary optic neuropathy     648\n",
       "Alzheimer's                             152\n",
       "Cancer                                   97\n",
       "Name: Disorder Subclass, dtype: int64"
      ]
     },
     "execution_count": 5,
     "metadata": {},
     "output_type": "execute_result"
    }
   ],
   "source": [
    "df['Disorder Subclass'].value_counts()"
   ]
  },
  {
   "cell_type": "code",
   "execution_count": 6,
   "metadata": {},
   "outputs": [
    {
     "data": {
      "text/plain": [
       "Mitochondrial genetic inheritance disorders     10202\n",
       "Single-gene inheritance diseases                 7664\n",
       "Multifactorial genetic inheritance disorders     2071\n",
       "Name: Genetic Disorder, dtype: int64"
      ]
     },
     "execution_count": 6,
     "metadata": {},
     "output_type": "execute_result"
    }
   ],
   "source": [
    "df[\"Genetic Disorder\"].value_counts()"
   ]
  },
  {
   "cell_type": "markdown",
   "metadata": {},
   "source": [
    "### Combination Between Genetic Disorder and Disorder Subclass"
   ]
  },
  {
   "cell_type": "code",
   "execution_count": 7,
   "metadata": {
    "scrolled": true
   },
   "outputs": [
    {
     "name": "stdout",
     "output_type": "stream",
     "text": [
      "Mitochondrial genetic inheritance disorders\n",
      "\n",
      "\n",
      "Leigh syndrome                         4683\n",
      "Mitochondrial myopathy                 3971\n",
      "Leber's hereditary optic neuropathy     587\n",
      "Name: Disorder Subclass, dtype: int64\n",
      "\n",
      "\n",
      "\n",
      "Single-gene inheritance diseases\n",
      "\n",
      "\n",
      "Cystic fibrosis    3145\n",
      "Tay-Sachs          2556\n",
      "Hemochromatosis    1228\n",
      "Name: Disorder Subclass, dtype: int64\n",
      "\n",
      "\n",
      "\n",
      "Multifactorial genetic inheritance disorders\n",
      "\n",
      "\n",
      "Diabetes       1653\n",
      "Alzheimer's     133\n",
      "Cancer           91\n",
      "Name: Disorder Subclass, dtype: int64\n",
      "\n",
      "\n",
      "\n"
     ]
    }
   ],
   "source": [
    "for i in df[\"Genetic Disorder\"].value_counts().index:\n",
    "    print(i)\n",
    "    print(\"\\n\")\n",
    "    print(df[df[\"Genetic Disorder\"] == i]['Disorder Subclass'].value_counts())\n",
    "    print(\"\\n\\n\")"
   ]
  },
  {
   "cell_type": "markdown",
   "metadata": {},
   "source": [
    "we can impute the value of Gentic Disorder from the Disorder Subclass"
   ]
  },
  {
   "cell_type": "markdown",
   "metadata": {},
   "source": [
    "By this insight we can understand that Every syndrom has subcategorized into unique category and from **Disorder Subclass** we can calculate **\"Genetic Disorder\"** so we are droping the \"Genetic Disorder\" Latter we can   also predict this after we are over with \"Disorder Subclass\""
   ]
  },
  {
   "cell_type": "markdown",
   "metadata": {},
   "source": [
    "####  Putting values from Disorder Subclass"
   ]
  },
  {
   "cell_type": "code",
   "execution_count": 8,
   "metadata": {},
   "outputs": [],
   "source": [
    "df['Genetic Disorders'] = np.where(df['Genetic Disorder'].isnull(),\n",
    "                                 np.where(df['Disorder Subclass'].isin([\"Leigh syndrome\", \"Mitochondrial myopathy\", \"Leber's hereditary optic neuropathy\"]), \"Mitochondrial genetic inheritance disorders\", \n",
    "                                         np.where(df['Disorder Subclass'].isin([\"Cystic fibrosis\", \"Tay-Sachs\", \"Hemochromatosis\"]), \"Single-gene inheritance diseases\", \n",
    "                                                 np.where(df['Disorder Subclass'].isin([\"Diabetes\", \"Alzheimer's\", \"Cancer\"]), \"Multifactorial genetic inheritance disorders\", df['Genetic Disorder']))), df['Genetic Disorder'])"
   ]
  },
  {
   "cell_type": "code",
   "execution_count": 9,
   "metadata": {},
   "outputs": [],
   "source": [
    "# plt.subplot(1, 2, 1)\n",
    "# # plt.figure(figsize=(5, 4))\n",
    "# sns.countplot(df['Genetic Disorder'])\n",
    "\n",
    "# plt.subplot(1, 2, 2)\n",
    "# # plt.figure(figsize=(5, 4))\n",
    "# sns.countplot(df['Genetic Disorders'])\n",
    "\n",
    "# plt.show()\n"
   ]
  },
  {
   "cell_type": "markdown",
   "metadata": {},
   "source": [
    "###  Giving The Short name to Disorder Subclass"
   ]
  },
  {
   "cell_type": "code",
   "execution_count": 10,
   "metadata": {},
   "outputs": [],
   "source": [
    "df['Disorder Subclass'] = df[\"Disorder Subclass\"].replace([\"Leigh syndrome\", \"Mitochondrial myopathy\", \"Cystic fibrosis\", \"Tay-Sachs\", \"Hemochromatosis\", \"Leber's hereditary optic neuropathy\", \"Alzheimer's\"], [\"Leigh\", \"Mitochondrial\", \"Cystic\", \"Tay\", \"Hemo\", \"Leber's\", \"Alzheimer\"])"
   ]
  },
  {
   "cell_type": "code",
   "execution_count": 11,
   "metadata": {},
   "outputs": [
    {
     "data": {
      "text/plain": [
       "Leigh            5160\n",
       "Mitochondrial    4405\n",
       "Cystic           3448\n",
       "Tay              2833\n",
       "Diabetes         1817\n",
       "Hemo             1355\n",
       "Leber's           648\n",
       "Alzheimer         152\n",
       "Cancer             97\n",
       "Name: Disorder Subclass, dtype: int64"
      ]
     },
     "execution_count": 11,
     "metadata": {},
     "output_type": "execute_result"
    }
   ],
   "source": [
    "df['Disorder Subclass'].value_counts()"
   ]
  },
  {
   "cell_type": "markdown",
   "metadata": {},
   "source": [
    "### Finding Information from Inst. Name"
   ]
  },
  {
   "cell_type": "code",
   "execution_count": 12,
   "metadata": {},
   "outputs": [],
   "source": [
    "df['Institute_name'] = np.where(df['Institute Name'].isin([np.nan, 'Not applicable']), \"Nan\", df['Institute Name'])"
   ]
  },
  {
   "cell_type": "code",
   "execution_count": 13,
   "metadata": {
    "scrolled": true
   },
   "outputs": [
    {
     "data": {
      "text/plain": [
       "Nan                                              13546\n",
       "Franciscan Children's  Hospital                    363\n",
       "Carney Hospital                                    357\n",
       "New England Medical Center                         350\n",
       "Hebrew Rehabilitation Center                       349\n",
       "VA Hospital                                        344\n",
       "Shriners Burns Institute                           341\n",
       "Massachusetts Eye & Ear Infirmary                  337\n",
       "Brigham And Women's Hospital                       334\n",
       "Boston City Hospital                               330\n",
       "St. Margaret's Hospital For Women                  329\n",
       "Arbour Hospital                                    327\n",
       "Spaulding Rehabilitation Hospital                  325\n",
       "Faulkner Hospital                                  325\n",
       "Kindred Hospital                                   324\n",
       "Children's Hospital                                324\n",
       "Dana-farber Cancer Institute                       323\n",
       "Boston Specialty & Rehabilitation Hospital         322\n",
       "Massachusetts General Hospital                     321\n",
       "Beth Israel Deaconess Medical Center East Cam      320\n",
       "Boston Medical Center                              318\n",
       "New England Baptist Hospital                       317\n",
       "Jewish Memorial Hospital                           315\n",
       "Beth Israel Deaconess Medical Center West Cam      315\n",
       "Lemuel Shattuck Hospital                           313\n",
       "Va Hospital                                        312\n",
       "St. Elizabeth's Hospital                           302\n",
       "Name: Institute_name, dtype: int64"
      ]
     },
     "execution_count": 13,
     "metadata": {},
     "output_type": "execute_result"
    }
   ],
   "source": [
    "df['Institute_name'].value_counts()"
   ]
  },
  {
   "cell_type": "code",
   "execution_count": 14,
   "metadata": {
    "scrolled": true
   },
   "outputs": [
    {
     "name": "stdout",
     "output_type": "stream",
     "text": [
      "Hospital Name: Nan\n",
      "\n",
      "Leigh            3143\n",
      "Mitochondrial    2643\n",
      "Cystic           2094\n",
      "Tay              1709\n",
      "Diabetes         1093\n",
      "Hemo              846\n",
      "Leber's           402\n",
      "Alzheimer          90\n",
      "Cancer             57\n",
      "Name: Disorder Subclass, dtype: int64\n",
      "\n",
      "\n",
      "\n",
      "Hospital Name: Franciscan Children's  Hospital\n",
      "\n",
      "Mitochondrial    90\n",
      "Leigh            80\n",
      "Cystic           55\n",
      "Tay              44\n",
      "Hemo             31\n",
      "Diabetes         24\n",
      "Leber's          11\n",
      "Cancer            5\n",
      "Alzheimer         1\n",
      "Name: Disorder Subclass, dtype: int64\n",
      "\n",
      "\n",
      "\n",
      "Hospital Name: Carney Hospital\n",
      "\n",
      "Leigh            89\n",
      "Mitochondrial    68\n",
      "Cystic           64\n",
      "Tay              45\n",
      "Diabetes         33\n",
      "Hemo             26\n",
      "Leber's           9\n",
      "Cancer            2\n",
      "Name: Disorder Subclass, dtype: int64\n",
      "\n",
      "\n",
      "\n",
      "Hospital Name: New England Medical Center\n",
      "\n",
      "Leigh            72\n",
      "Tay              65\n",
      "Cystic           59\n",
      "Mitochondrial    56\n",
      "Diabetes         36\n",
      "Hemo             23\n",
      "Leber's           6\n",
      "Alzheimer         5\n",
      "Cancer            2\n",
      "Name: Disorder Subclass, dtype: int64\n",
      "\n",
      "\n",
      "\n",
      "Hospital Name: Hebrew Rehabilitation Center\n",
      "\n",
      "Leigh            81\n",
      "Mitochondrial    78\n",
      "Cystic           51\n",
      "Tay              51\n",
      "Diabetes         27\n",
      "Leber's          10\n",
      "Hemo              9\n",
      "Cancer            4\n",
      "Alzheimer         3\n",
      "Name: Disorder Subclass, dtype: int64\n",
      "\n",
      "\n",
      "\n",
      "Hospital Name: VA Hospital\n",
      "\n",
      "Leigh            83\n",
      "Mitochondrial    65\n",
      "Cystic           56\n",
      "Tay              46\n",
      "Diabetes         34\n",
      "Hemo             18\n",
      "Leber's          14\n",
      "Cancer            2\n",
      "Alzheimer         2\n",
      "Name: Disorder Subclass, dtype: int64\n",
      "\n",
      "\n",
      "\n",
      "Hospital Name: Shriners Burns Institute\n",
      "\n",
      "Leigh            81\n",
      "Mitochondrial    65\n",
      "Cystic           52\n",
      "Tay              46\n",
      "Diabetes         38\n",
      "Hemo             27\n",
      "Leber's           3\n",
      "Cancer            1\n",
      "Alzheimer         1\n",
      "Name: Disorder Subclass, dtype: int64\n",
      "\n",
      "\n",
      "\n",
      "Hospital Name: Massachusetts Eye & Ear Infirmary\n",
      "\n",
      "Leigh            75\n",
      "Mitochondrial    73\n",
      "Tay              51\n",
      "Cystic           49\n",
      "Diabetes         27\n",
      "Leber's          15\n",
      "Hemo             12\n",
      "Alzheimer         5\n",
      "Name: Disorder Subclass, dtype: int64\n",
      "\n",
      "\n",
      "\n",
      "Hospital Name: Brigham And Women's Hospital\n",
      "\n",
      "Leigh            84\n",
      "Mitochondrial    62\n",
      "Tay              49\n",
      "Cystic           43\n",
      "Hemo             22\n",
      "Diabetes         21\n",
      "Leber's          14\n",
      "Cancer            3\n",
      "Alzheimer         3\n",
      "Name: Disorder Subclass, dtype: int64\n",
      "\n",
      "\n",
      "\n",
      "Hospital Name: Boston City Hospital\n",
      "\n",
      "Leigh            78\n",
      "Mitochondrial    78\n",
      "Cystic           52\n",
      "Diabetes         33\n",
      "Tay              33\n",
      "Hemo             19\n",
      "Leber's          10\n",
      "Alzheimer         5\n",
      "Name: Disorder Subclass, dtype: int64\n",
      "\n",
      "\n",
      "\n",
      "Hospital Name: St. Margaret's Hospital For Women\n",
      "\n",
      "Leigh            83\n",
      "Mitochondrial    76\n",
      "Cystic           59\n",
      "Tay              35\n",
      "Diabetes         28\n",
      "Hemo             13\n",
      "Leber's          12\n",
      "Alzheimer         2\n",
      "Name: Disorder Subclass, dtype: int64\n",
      "\n",
      "\n",
      "\n",
      "Hospital Name: Arbour Hospital\n",
      "\n",
      "Mitochondrial    80\n",
      "Leigh            78\n",
      "Cystic           52\n",
      "Tay              32\n",
      "Diabetes         28\n",
      "Hemo             15\n",
      "Leber's           8\n",
      "Cancer            3\n",
      "Alzheimer         2\n",
      "Name: Disorder Subclass, dtype: int64\n",
      "\n",
      "\n",
      "\n",
      "Hospital Name: Spaulding Rehabilitation Hospital\n",
      "\n",
      "Leigh            72\n",
      "Mitochondrial    68\n",
      "Tay              56\n",
      "Cystic           41\n",
      "Diabetes         28\n",
      "Hemo             19\n",
      "Leber's           9\n",
      "Alzheimer         2\n",
      "Name: Disorder Subclass, dtype: int64\n",
      "\n",
      "\n",
      "\n",
      "Hospital Name: Faulkner Hospital\n",
      "\n",
      "Leigh            79\n",
      "Mitochondrial    72\n",
      "Cystic           58\n",
      "Tay              33\n",
      "Diabetes         31\n",
      "Hemo             16\n",
      "Leber's          13\n",
      "Alzheimer         2\n",
      "Cancer            1\n",
      "Name: Disorder Subclass, dtype: int64\n",
      "\n",
      "\n",
      "\n",
      "Hospital Name: Kindred Hospital\n",
      "\n",
      "Leigh            86\n",
      "Mitochondrial    64\n",
      "Cystic           54\n",
      "Tay              33\n",
      "Diabetes         28\n",
      "Hemo             20\n",
      "Leber's           8\n",
      "Alzheimer         2\n",
      "Cancer            1\n",
      "Name: Disorder Subclass, dtype: int64\n",
      "\n",
      "\n",
      "\n",
      "Hospital Name: Children's Hospital\n",
      "\n",
      "Leigh            77\n",
      "Mitochondrial    67\n",
      "Cystic           63\n",
      "Tay              35\n",
      "Diabetes         22\n",
      "Hemo             18\n",
      "Leber's           8\n",
      "Alzheimer         2\n",
      "Cancer            1\n",
      "Name: Disorder Subclass, dtype: int64\n",
      "\n",
      "\n",
      "\n",
      "Hospital Name: Dana-farber Cancer Institute\n",
      "\n",
      "Leigh            85\n",
      "Mitochondrial    64\n",
      "Cystic           48\n",
      "Tay              35\n",
      "Diabetes         28\n",
      "Hemo             20\n",
      "Leber's           9\n",
      "Cancer            2\n",
      "Alzheimer         1\n",
      "Name: Disorder Subclass, dtype: int64\n",
      "\n",
      "\n",
      "\n",
      "Hospital Name: Boston Specialty & Rehabilitation Hospital\n",
      "\n",
      "Leigh            79\n",
      "Mitochondrial    62\n",
      "Tay              45\n",
      "Cystic           44\n",
      "Diabetes         34\n",
      "Hemo             16\n",
      "Leber's          12\n",
      "Alzheimer         1\n",
      "Name: Disorder Subclass, dtype: int64\n",
      "\n",
      "\n",
      "\n",
      "Hospital Name: Massachusetts General Hospital\n",
      "\n",
      "Leigh            76\n",
      "Cystic           56\n",
      "Mitochondrial    54\n",
      "Tay              47\n",
      "Hemo             22\n",
      "Diabetes         22\n",
      "Leber's          12\n",
      "Alzheimer         3\n",
      "Name: Disorder Subclass, dtype: int64\n",
      "\n",
      "\n",
      "\n",
      "Hospital Name: Beth Israel Deaconess Medical Center East Cam\n",
      "\n",
      "Mitochondrial    75\n",
      "Leigh            74\n",
      "Cystic           55\n",
      "Tay              42\n",
      "Diabetes         26\n",
      "Hemo             13\n",
      "Leber's          10\n",
      "Cancer            1\n",
      "Name: Disorder Subclass, dtype: int64\n",
      "\n",
      "\n",
      "\n",
      "Hospital Name: Boston Medical Center\n",
      "\n",
      "Leigh            69\n",
      "Mitochondrial    68\n",
      "Tay              46\n",
      "Cystic           45\n",
      "Diabetes         30\n",
      "Hemo             24\n",
      "Leber's           6\n",
      "Cancer            1\n",
      "Alzheimer         1\n",
      "Name: Disorder Subclass, dtype: int64\n",
      "\n",
      "\n",
      "\n",
      "Hospital Name: New England Baptist Hospital\n",
      "\n",
      "Leigh            73\n",
      "Mitochondrial    71\n",
      "Cystic           52\n",
      "Tay              47\n",
      "Diabetes         23\n",
      "Hemo             16\n",
      "Leber's          11\n",
      "Alzheimer         3\n",
      "Name: Disorder Subclass, dtype: int64\n",
      "\n",
      "\n",
      "\n",
      "Hospital Name: Jewish Memorial Hospital\n",
      "\n",
      "Leigh            77\n",
      "Mitochondrial    59\n",
      "Cystic           46\n",
      "Tay              32\n",
      "Diabetes         29\n",
      "Hemo             26\n",
      "Leber's           6\n",
      "Cancer            3\n",
      "Alzheimer         3\n",
      "Name: Disorder Subclass, dtype: int64\n",
      "\n",
      "\n",
      "\n",
      "Hospital Name: Beth Israel Deaconess Medical Center West Cam\n",
      "\n",
      "Leigh            71\n",
      "Mitochondrial    69\n",
      "Cystic           50\n",
      "Tay              45\n",
      "Hemo             23\n",
      "Diabetes         21\n",
      "Leber's           9\n",
      "Cancer            3\n",
      "Alzheimer         1\n",
      "Name: Disorder Subclass, dtype: int64\n",
      "\n",
      "\n",
      "\n",
      "Hospital Name: Lemuel Shattuck Hospital\n",
      "\n",
      "Leigh            78\n",
      "Cystic           58\n",
      "Mitochondrial    57\n",
      "Tay              47\n",
      "Diabetes         19\n",
      "Hemo             19\n",
      "Leber's           7\n",
      "Cancer            2\n",
      "Alzheimer         1\n",
      "Name: Disorder Subclass, dtype: int64\n",
      "\n",
      "\n",
      "\n",
      "Hospital Name: Va Hospital\n",
      "\n",
      "Mitochondrial    63\n",
      "Leigh            63\n",
      "Tay              46\n",
      "Cystic           43\n",
      "Diabetes         27\n",
      "Hemo             23\n",
      "Leber's           8\n",
      "Alzheimer         6\n",
      "Cancer            3\n",
      "Name: Disorder Subclass, dtype: int64\n",
      "\n",
      "\n",
      "\n",
      "Hospital Name: St. Elizabeth's Hospital\n",
      "\n",
      "Leigh            74\n",
      "Mitochondrial    58\n",
      "Cystic           49\n",
      "Tay              38\n",
      "Diabetes         27\n",
      "Hemo             19\n",
      "Leber's           6\n",
      "Alzheimer         5\n",
      "Name: Disorder Subclass, dtype: int64\n",
      "\n",
      "\n",
      "\n"
     ]
    }
   ],
   "source": [
    "for i in df['Institute_name'].value_counts().index:\n",
    "    print(\"Hospital Name: {}\\n\".format(i))\n",
    "    print(df[df['Institute_name'] == i]['Disorder Subclass'].value_counts())\n",
    "    print(\"\\n\\n\")"
   ]
  },
  {
   "cell_type": "code",
   "execution_count": 15,
   "metadata": {
    "scrolled": true
   },
   "outputs": [],
   "source": [
    "# for i in df['Institute_name'].value_counts().index:\n",
    "#     df[df['Institute_name'] == i]['Disorder Subclass'].value_counts().plot(kind='bar')\n",
    "#     plt.title(i)\n",
    "#     plt.show()"
   ]
  },
  {
   "cell_type": "markdown",
   "metadata": {},
   "source": [
    "#####  Percentage wise"
   ]
  },
  {
   "cell_type": "code",
   "execution_count": 16,
   "metadata": {},
   "outputs": [],
   "source": [
    "# for i in df['Institute_name'].value_counts().index:\n",
    "#     df[df['Institute_name'] == i]['Disorder Subclass'].value_counts().plot(kind='pie', autopct='%1.1f%%')\n",
    "#     print(\"\\n\\n\\n\")\n",
    "#     plt.title(i)\n",
    "#     plt.show()"
   ]
  },
  {
   "cell_type": "markdown",
   "metadata": {},
   "source": [
    "Now you can see from this insight we can't get much information for time being  we are drop this col letter we can again take the col percentase wise for performence improvement"
   ]
  },
  {
   "cell_type": "markdown",
   "metadata": {},
   "source": [
    "#### Getting Info from Place of Birth "
   ]
  },
  {
   "cell_type": "code",
   "execution_count": 17,
   "metadata": {
    "scrolled": false
   },
   "outputs": [
    {
     "data": {
      "text/html": [
       "<div>\n",
       "<style scoped>\n",
       "    .dataframe tbody tr th:only-of-type {\n",
       "        vertical-align: middle;\n",
       "    }\n",
       "\n",
       "    .dataframe tbody tr th {\n",
       "        vertical-align: top;\n",
       "    }\n",
       "\n",
       "    .dataframe thead th {\n",
       "        text-align: right;\n",
       "    }\n",
       "</style>\n",
       "<table border=\"1\" class=\"dataframe\">\n",
       "  <thead>\n",
       "    <tr style=\"text-align: right;\">\n",
       "      <th></th>\n",
       "      <th>Patient Id</th>\n",
       "      <th>Patient Age</th>\n",
       "      <th>Genes in mother's side</th>\n",
       "      <th>Inherited from father</th>\n",
       "      <th>Maternal gene</th>\n",
       "      <th>Paternal gene</th>\n",
       "      <th>Blood cell count (mcL)</th>\n",
       "      <th>Patient First Name</th>\n",
       "      <th>Family Name</th>\n",
       "      <th>Father's name</th>\n",
       "      <th>Mother's age</th>\n",
       "      <th>Father's age</th>\n",
       "      <th>Institute Name</th>\n",
       "      <th>Location of Institute</th>\n",
       "      <th>Status</th>\n",
       "      <th>Respiratory Rate (breaths/min)</th>\n",
       "      <th>Heart Rate (rates/min</th>\n",
       "      <th>Test 1</th>\n",
       "      <th>Test 2</th>\n",
       "      <th>Test 3</th>\n",
       "      <th>Test 4</th>\n",
       "      <th>Test 5</th>\n",
       "      <th>Parental consent</th>\n",
       "      <th>Follow-up</th>\n",
       "      <th>Gender</th>\n",
       "      <th>Birth asphyxia</th>\n",
       "      <th>Autopsy shows birth defect (if applicable)</th>\n",
       "      <th>Place of birth</th>\n",
       "      <th>Folic acid details (peri-conceptional)</th>\n",
       "      <th>H/O serious maternal illness</th>\n",
       "      <th>H/O radiation exposure (x-ray)</th>\n",
       "      <th>H/O substance abuse</th>\n",
       "      <th>Assisted conception IVF/ART</th>\n",
       "      <th>History of anomalies in previous pregnancies</th>\n",
       "      <th>No. of previous abortion</th>\n",
       "      <th>Birth defects</th>\n",
       "      <th>White Blood cell count (thousand per microliter)</th>\n",
       "      <th>Blood test result</th>\n",
       "      <th>Symptom 1</th>\n",
       "      <th>Symptom 2</th>\n",
       "      <th>Symptom 3</th>\n",
       "      <th>Symptom 4</th>\n",
       "      <th>Symptom 5</th>\n",
       "      <th>Genetic Disorder</th>\n",
       "      <th>Disorder Subclass</th>\n",
       "      <th>Genetic Disorders</th>\n",
       "      <th>Institute_name</th>\n",
       "    </tr>\n",
       "  </thead>\n",
       "  <tbody>\n",
       "    <tr>\n",
       "      <th>0</th>\n",
       "      <td>PID0x6418</td>\n",
       "      <td>2.0</td>\n",
       "      <td>Yes</td>\n",
       "      <td>No</td>\n",
       "      <td>Yes</td>\n",
       "      <td>No</td>\n",
       "      <td>4.760603</td>\n",
       "      <td>Richard</td>\n",
       "      <td>NaN</td>\n",
       "      <td>Larre</td>\n",
       "      <td>NaN</td>\n",
       "      <td>NaN</td>\n",
       "      <td>Boston Specialty &amp; Rehabilitation Hospital</td>\n",
       "      <td>55 FRUIT ST\\nCENTRAL, MA 02114\\n(42.3624748574...</td>\n",
       "      <td>Alive</td>\n",
       "      <td>Normal (30-60)</td>\n",
       "      <td>Normal</td>\n",
       "      <td>0.0</td>\n",
       "      <td>NaN</td>\n",
       "      <td>NaN</td>\n",
       "      <td>1.0</td>\n",
       "      <td>0.0</td>\n",
       "      <td>Yes</td>\n",
       "      <td>High</td>\n",
       "      <td>NaN</td>\n",
       "      <td>NaN</td>\n",
       "      <td>Not applicable</td>\n",
       "      <td>Institute</td>\n",
       "      <td>No</td>\n",
       "      <td>NaN</td>\n",
       "      <td>No</td>\n",
       "      <td>No</td>\n",
       "      <td>No</td>\n",
       "      <td>Yes</td>\n",
       "      <td>NaN</td>\n",
       "      <td>NaN</td>\n",
       "      <td>9.857562</td>\n",
       "      <td>NaN</td>\n",
       "      <td>1.0</td>\n",
       "      <td>1.0</td>\n",
       "      <td>1.0</td>\n",
       "      <td>1.0</td>\n",
       "      <td>1.0</td>\n",
       "      <td>Mitochondrial genetic inheritance disorders</td>\n",
       "      <td>Leber's</td>\n",
       "      <td>Mitochondrial genetic inheritance disorders</td>\n",
       "      <td>Boston Specialty &amp; Rehabilitation Hospital</td>\n",
       "    </tr>\n",
       "    <tr>\n",
       "      <th>1</th>\n",
       "      <td>PID0x25d5</td>\n",
       "      <td>4.0</td>\n",
       "      <td>Yes</td>\n",
       "      <td>Yes</td>\n",
       "      <td>No</td>\n",
       "      <td>No</td>\n",
       "      <td>4.910669</td>\n",
       "      <td>Mike</td>\n",
       "      <td>NaN</td>\n",
       "      <td>Brycen</td>\n",
       "      <td>NaN</td>\n",
       "      <td>23.0</td>\n",
       "      <td>St. Margaret's Hospital For Women</td>\n",
       "      <td>1515 COMMONWEALTH AV\\nALLSTON/BRIGHTON, MA 021...</td>\n",
       "      <td>Deceased</td>\n",
       "      <td>Tachypnea</td>\n",
       "      <td>Normal</td>\n",
       "      <td>NaN</td>\n",
       "      <td>0.0</td>\n",
       "      <td>0.0</td>\n",
       "      <td>1.0</td>\n",
       "      <td>0.0</td>\n",
       "      <td>Yes</td>\n",
       "      <td>High</td>\n",
       "      <td>NaN</td>\n",
       "      <td>No</td>\n",
       "      <td>None</td>\n",
       "      <td>NaN</td>\n",
       "      <td>Yes</td>\n",
       "      <td>Yes</td>\n",
       "      <td>Not applicable</td>\n",
       "      <td>Not applicable</td>\n",
       "      <td>No</td>\n",
       "      <td>Yes</td>\n",
       "      <td>NaN</td>\n",
       "      <td>Multiple</td>\n",
       "      <td>5.522560</td>\n",
       "      <td>normal</td>\n",
       "      <td>1.0</td>\n",
       "      <td>NaN</td>\n",
       "      <td>1.0</td>\n",
       "      <td>1.0</td>\n",
       "      <td>0.0</td>\n",
       "      <td>NaN</td>\n",
       "      <td>Cystic</td>\n",
       "      <td>Single-gene inheritance diseases</td>\n",
       "      <td>St. Margaret's Hospital For Women</td>\n",
       "    </tr>\n",
       "  </tbody>\n",
       "</table>\n",
       "</div>"
      ],
      "text/plain": [
       "  Patient Id  Patient Age Genes in mother's side Inherited from father  \\\n",
       "0  PID0x6418          2.0                    Yes                    No   \n",
       "1  PID0x25d5          4.0                    Yes                   Yes   \n",
       "\n",
       "  Maternal gene Paternal gene  Blood cell count (mcL) Patient First Name  \\\n",
       "0           Yes            No                4.760603            Richard   \n",
       "1            No            No                4.910669               Mike   \n",
       "\n",
       "  Family Name Father's name  Mother's age  Father's age  \\\n",
       "0         NaN         Larre           NaN           NaN   \n",
       "1         NaN        Brycen           NaN          23.0   \n",
       "\n",
       "                               Institute Name  \\\n",
       "0  Boston Specialty & Rehabilitation Hospital   \n",
       "1           St. Margaret's Hospital For Women   \n",
       "\n",
       "                               Location of Institute    Status  \\\n",
       "0  55 FRUIT ST\\nCENTRAL, MA 02114\\n(42.3624748574...     Alive   \n",
       "1  1515 COMMONWEALTH AV\\nALLSTON/BRIGHTON, MA 021...  Deceased   \n",
       "\n",
       "  Respiratory Rate (breaths/min) Heart Rate (rates/min  Test 1  Test 2  \\\n",
       "0                 Normal (30-60)                Normal     0.0     NaN   \n",
       "1                      Tachypnea                Normal     NaN     0.0   \n",
       "\n",
       "   Test 3  Test 4  Test 5 Parental consent Follow-up Gender Birth asphyxia  \\\n",
       "0     NaN     1.0     0.0              Yes      High    NaN            NaN   \n",
       "1     0.0     1.0     0.0              Yes      High    NaN             No   \n",
       "\n",
       "  Autopsy shows birth defect (if applicable) Place of birth  \\\n",
       "0                             Not applicable      Institute   \n",
       "1                                       None            NaN   \n",
       "\n",
       "  Folic acid details (peri-conceptional) H/O serious maternal illness  \\\n",
       "0                                     No                          NaN   \n",
       "1                                    Yes                          Yes   \n",
       "\n",
       "  H/O radiation exposure (x-ray) H/O substance abuse  \\\n",
       "0                             No                  No   \n",
       "1                 Not applicable      Not applicable   \n",
       "\n",
       "  Assisted conception IVF/ART History of anomalies in previous pregnancies  \\\n",
       "0                          No                                          Yes   \n",
       "1                          No                                          Yes   \n",
       "\n",
       "   No. of previous abortion Birth defects  \\\n",
       "0                       NaN           NaN   \n",
       "1                       NaN      Multiple   \n",
       "\n",
       "   White Blood cell count (thousand per microliter) Blood test result  \\\n",
       "0                                          9.857562               NaN   \n",
       "1                                          5.522560            normal   \n",
       "\n",
       "   Symptom 1  Symptom 2  Symptom 3  Symptom 4  Symptom 5  \\\n",
       "0        1.0        1.0        1.0        1.0        1.0   \n",
       "1        1.0        NaN        1.0        1.0        0.0   \n",
       "\n",
       "                              Genetic Disorder Disorder Subclass  \\\n",
       "0  Mitochondrial genetic inheritance disorders           Leber's   \n",
       "1                                          NaN            Cystic   \n",
       "\n",
       "                             Genetic Disorders  \\\n",
       "0  Mitochondrial genetic inheritance disorders   \n",
       "1             Single-gene inheritance diseases   \n",
       "\n",
       "                               Institute_name  \n",
       "0  Boston Specialty & Rehabilitation Hospital  \n",
       "1           St. Margaret's Hospital For Women  "
      ]
     },
     "execution_count": 17,
     "metadata": {},
     "output_type": "execute_result"
    }
   ],
   "source": [
    "df.head(2)"
   ]
  },
  {
   "cell_type": "code",
   "execution_count": 18,
   "metadata": {
    "scrolled": true
   },
   "outputs": [
    {
     "data": {
      "text/plain": [
       "Institute    10073\n",
       "Home          9886\n",
       "Name: Place of birth, dtype: int64"
      ]
     },
     "execution_count": 18,
     "metadata": {},
     "output_type": "execute_result"
    }
   ],
   "source": [
    "df['Place of birth'].value_counts()"
   ]
  },
  {
   "cell_type": "code",
   "execution_count": 19,
   "metadata": {
    "scrolled": true
   },
   "outputs": [],
   "source": [
    "# for i in df['Place of birth'].value_counts().index:\n",
    "#     df[df['Place of birth'] == i]['Disorder Subclass'].value_counts().plot(kind='pie', autopct='%1.1f%%')\n",
    "#     print(\"\\n\\n\\n\")\n",
    "#     plt.title(i)\n",
    "#     plt.show()"
   ]
  },
  {
   "cell_type": "markdown",
   "metadata": {},
   "source": [
    " Nothing much Info get we drop this too"
   ]
  },
  {
   "cell_type": "markdown",
   "metadata": {},
   "source": [
    "### Dropiing Id,  Inst_name and loc_of Inst  col, place_of_Birth,  Genetic Disorder, Disorder_Subclass, 'Parental consent', test1...5"
   ]
  },
  {
   "cell_type": "code",
   "execution_count": 20,
   "metadata": {},
   "outputs": [],
   "source": [
    "df.drop(['Patient Id', 'Institute Name', \"Location of Institute\", \"Place of birth\", \"Institute_name\", \"Genetic Disorder\", \"Genetic Disorders\", 'Patient First Name', 'Family Name', \"Father's name\", 'Parental consent', 'Test 1', 'Test 2', 'Test 3', 'Test 4', 'Test 5'], axis=1, inplace=True)"
   ]
  },
  {
   "cell_type": "code",
   "execution_count": 21,
   "metadata": {
    "scrolled": true
   },
   "outputs": [
    {
     "data": {
      "text/html": [
       "<div>\n",
       "<style scoped>\n",
       "    .dataframe tbody tr th:only-of-type {\n",
       "        vertical-align: middle;\n",
       "    }\n",
       "\n",
       "    .dataframe tbody tr th {\n",
       "        vertical-align: top;\n",
       "    }\n",
       "\n",
       "    .dataframe thead th {\n",
       "        text-align: right;\n",
       "    }\n",
       "</style>\n",
       "<table border=\"1\" class=\"dataframe\">\n",
       "  <thead>\n",
       "    <tr style=\"text-align: right;\">\n",
       "      <th></th>\n",
       "      <th>Patient Age</th>\n",
       "      <th>Genes in mother's side</th>\n",
       "      <th>Inherited from father</th>\n",
       "      <th>Maternal gene</th>\n",
       "      <th>Paternal gene</th>\n",
       "      <th>Blood cell count (mcL)</th>\n",
       "      <th>Mother's age</th>\n",
       "      <th>Father's age</th>\n",
       "      <th>Status</th>\n",
       "      <th>Respiratory Rate (breaths/min)</th>\n",
       "      <th>Heart Rate (rates/min</th>\n",
       "      <th>Follow-up</th>\n",
       "      <th>Gender</th>\n",
       "      <th>Birth asphyxia</th>\n",
       "      <th>Autopsy shows birth defect (if applicable)</th>\n",
       "      <th>Folic acid details (peri-conceptional)</th>\n",
       "      <th>H/O serious maternal illness</th>\n",
       "      <th>H/O radiation exposure (x-ray)</th>\n",
       "      <th>H/O substance abuse</th>\n",
       "      <th>Assisted conception IVF/ART</th>\n",
       "      <th>History of anomalies in previous pregnancies</th>\n",
       "      <th>No. of previous abortion</th>\n",
       "      <th>Birth defects</th>\n",
       "      <th>White Blood cell count (thousand per microliter)</th>\n",
       "      <th>Blood test result</th>\n",
       "      <th>Symptom 1</th>\n",
       "      <th>Symptom 2</th>\n",
       "      <th>Symptom 3</th>\n",
       "      <th>Symptom 4</th>\n",
       "      <th>Symptom 5</th>\n",
       "      <th>Disorder Subclass</th>\n",
       "    </tr>\n",
       "  </thead>\n",
       "  <tbody>\n",
       "    <tr>\n",
       "      <th>0</th>\n",
       "      <td>2.0</td>\n",
       "      <td>Yes</td>\n",
       "      <td>No</td>\n",
       "      <td>Yes</td>\n",
       "      <td>No</td>\n",
       "      <td>4.760603</td>\n",
       "      <td>NaN</td>\n",
       "      <td>NaN</td>\n",
       "      <td>Alive</td>\n",
       "      <td>Normal (30-60)</td>\n",
       "      <td>Normal</td>\n",
       "      <td>High</td>\n",
       "      <td>NaN</td>\n",
       "      <td>NaN</td>\n",
       "      <td>Not applicable</td>\n",
       "      <td>No</td>\n",
       "      <td>NaN</td>\n",
       "      <td>No</td>\n",
       "      <td>No</td>\n",
       "      <td>No</td>\n",
       "      <td>Yes</td>\n",
       "      <td>NaN</td>\n",
       "      <td>NaN</td>\n",
       "      <td>9.857562</td>\n",
       "      <td>NaN</td>\n",
       "      <td>1.0</td>\n",
       "      <td>1.0</td>\n",
       "      <td>1.0</td>\n",
       "      <td>1.0</td>\n",
       "      <td>1.0</td>\n",
       "      <td>Leber's</td>\n",
       "    </tr>\n",
       "    <tr>\n",
       "      <th>1</th>\n",
       "      <td>4.0</td>\n",
       "      <td>Yes</td>\n",
       "      <td>Yes</td>\n",
       "      <td>No</td>\n",
       "      <td>No</td>\n",
       "      <td>4.910669</td>\n",
       "      <td>NaN</td>\n",
       "      <td>23.0</td>\n",
       "      <td>Deceased</td>\n",
       "      <td>Tachypnea</td>\n",
       "      <td>Normal</td>\n",
       "      <td>High</td>\n",
       "      <td>NaN</td>\n",
       "      <td>No</td>\n",
       "      <td>None</td>\n",
       "      <td>Yes</td>\n",
       "      <td>Yes</td>\n",
       "      <td>Not applicable</td>\n",
       "      <td>Not applicable</td>\n",
       "      <td>No</td>\n",
       "      <td>Yes</td>\n",
       "      <td>NaN</td>\n",
       "      <td>Multiple</td>\n",
       "      <td>5.522560</td>\n",
       "      <td>normal</td>\n",
       "      <td>1.0</td>\n",
       "      <td>NaN</td>\n",
       "      <td>1.0</td>\n",
       "      <td>1.0</td>\n",
       "      <td>0.0</td>\n",
       "      <td>Cystic</td>\n",
       "    </tr>\n",
       "  </tbody>\n",
       "</table>\n",
       "</div>"
      ],
      "text/plain": [
       "   Patient Age Genes in mother's side Inherited from father Maternal gene  \\\n",
       "0          2.0                    Yes                    No           Yes   \n",
       "1          4.0                    Yes                   Yes            No   \n",
       "\n",
       "  Paternal gene  Blood cell count (mcL)  Mother's age  Father's age    Status  \\\n",
       "0            No                4.760603           NaN           NaN     Alive   \n",
       "1            No                4.910669           NaN          23.0  Deceased   \n",
       "\n",
       "  Respiratory Rate (breaths/min) Heart Rate (rates/min Follow-up Gender  \\\n",
       "0                 Normal (30-60)                Normal      High    NaN   \n",
       "1                      Tachypnea                Normal      High    NaN   \n",
       "\n",
       "  Birth asphyxia Autopsy shows birth defect (if applicable)  \\\n",
       "0            NaN                             Not applicable   \n",
       "1             No                                       None   \n",
       "\n",
       "  Folic acid details (peri-conceptional) H/O serious maternal illness  \\\n",
       "0                                     No                          NaN   \n",
       "1                                    Yes                          Yes   \n",
       "\n",
       "  H/O radiation exposure (x-ray) H/O substance abuse  \\\n",
       "0                             No                  No   \n",
       "1                 Not applicable      Not applicable   \n",
       "\n",
       "  Assisted conception IVF/ART History of anomalies in previous pregnancies  \\\n",
       "0                          No                                          Yes   \n",
       "1                          No                                          Yes   \n",
       "\n",
       "   No. of previous abortion Birth defects  \\\n",
       "0                       NaN           NaN   \n",
       "1                       NaN      Multiple   \n",
       "\n",
       "   White Blood cell count (thousand per microliter) Blood test result  \\\n",
       "0                                          9.857562               NaN   \n",
       "1                                          5.522560            normal   \n",
       "\n",
       "   Symptom 1  Symptom 2  Symptom 3  Symptom 4  Symptom 5 Disorder Subclass  \n",
       "0        1.0        1.0        1.0        1.0        1.0           Leber's  \n",
       "1        1.0        NaN        1.0        1.0        0.0            Cystic  "
      ]
     },
     "execution_count": 21,
     "metadata": {},
     "output_type": "execute_result"
    }
   ],
   "source": [
    "df.head(2)"
   ]
  },
  {
   "cell_type": "markdown",
   "metadata": {},
   "source": [
    "we are droping Patient First Name, Family Name, Father's name, Because not realy impactfull info and Parental consent, Test1....5 because they have either nan values or Same Vales"
   ]
  },
  {
   "cell_type": "markdown",
   "metadata": {},
   "source": [
    "### Adding Index"
   ]
  },
  {
   "cell_type": "code",
   "execution_count": 22,
   "metadata": {},
   "outputs": [],
   "source": [
    "# df = df.reset_index()\n",
    "# df.head(2)"
   ]
  },
  {
   "cell_type": "markdown",
   "metadata": {},
   "source": [
    "We are adding index because it will help me letter at concatination time"
   ]
  },
  {
   "cell_type": "markdown",
   "metadata": {},
   "source": [
    "### Droping nan from y"
   ]
  },
  {
   "cell_type": "markdown",
   "metadata": {},
   "source": [
    "droping the nan value from y(Disorder Subclass) because we will predict the value"
   ]
  },
  {
   "cell_type": "code",
   "execution_count": 23,
   "metadata": {},
   "outputs": [],
   "source": [
    "df.dropna(subset=['Disorder Subclass'], inplace= True)"
   ]
  },
  {
   "cell_type": "code",
   "execution_count": 24,
   "metadata": {
    "scrolled": true
   },
   "outputs": [
    {
     "data": {
      "text/plain": [
       "Patient Age                                         1243\n",
       "Genes in mother's side                                 0\n",
       "Inherited from father                                263\n",
       "Maternal gene                                       2405\n",
       "Paternal gene                                          0\n",
       "Blood cell count (mcL)                                 0\n",
       "Mother's age                                        5196\n",
       "Father's age                                        5119\n",
       "Status                                                 0\n",
       "Respiratory Rate (breaths/min)                      1857\n",
       "Heart Rate (rates/min                               1788\n",
       "Follow-up                                           1845\n",
       "Gender                                              1863\n",
       "Birth asphyxia                                      1809\n",
       "Autopsy shows birth defect (if applicable)           897\n",
       "Folic acid details (peri-conceptional)              1823\n",
       "H/O serious maternal illness                        1831\n",
       "H/O radiation exposure (x-ray)                      1857\n",
       "H/O substance abuse                                 1897\n",
       "Assisted conception IVF/ART                         1830\n",
       "History of anomalies in previous pregnancies        1845\n",
       "No. of previous abortion                            1835\n",
       "Birth defects                                       1845\n",
       "White Blood cell count (thousand per microliter)    1876\n",
       "Blood test result                                   1832\n",
       "Symptom 1                                           1853\n",
       "Symptom 2                                           1924\n",
       "Symptom 3                                           1786\n",
       "Symptom 4                                           1813\n",
       "Symptom 5                                           1881\n",
       "Disorder Subclass                                      0\n",
       "dtype: int64"
      ]
     },
     "execution_count": 24,
     "metadata": {},
     "output_type": "execute_result"
    }
   ],
   "source": [
    "df.isnull().sum()"
   ]
  },
  {
   "cell_type": "markdown",
   "metadata": {},
   "source": [
    "### Missing Value Imputing"
   ]
  },
  {
   "cell_type": "code",
   "execution_count": 25,
   "metadata": {},
   "outputs": [],
   "source": [
    "#Splitting into X, y\n",
    "\n",
    "X = df.drop('Disorder Subclass', axis=1)\n",
    "y = df['Disorder Subclass']"
   ]
  },
  {
   "cell_type": "markdown",
   "metadata": {},
   "source": [
    "#### Numerical Column"
   ]
  },
  {
   "cell_type": "code",
   "execution_count": null,
   "metadata": {},
   "outputs": [],
   "source": []
  },
  {
   "cell_type": "code",
   "execution_count": 26,
   "metadata": {
    "scrolled": false
   },
   "outputs": [
    {
     "data": {
      "text/plain": [
       "['Patient Age',\n",
       " 'Blood cell count (mcL)',\n",
       " \"Mother's age\",\n",
       " \"Father's age\",\n",
       " 'No. of previous abortion',\n",
       " 'White Blood cell count (thousand per microliter)',\n",
       " 'Symptom 1',\n",
       " 'Symptom 2',\n",
       " 'Symptom 3',\n",
       " 'Symptom 4',\n",
       " 'Symptom 5']"
      ]
     },
     "execution_count": 26,
     "metadata": {},
     "output_type": "execute_result"
    }
   ],
   "source": [
    "numerical_feature = [feature for feature in X.columns if X[feature].dtype !='O']\n",
    "numerical_feature"
   ]
  },
  {
   "cell_type": "markdown",
   "metadata": {},
   "source": [
    "### Numerical df"
   ]
  },
  {
   "cell_type": "code",
   "execution_count": 27,
   "metadata": {},
   "outputs": [
    {
     "data": {
      "text/html": [
       "<div>\n",
       "<style scoped>\n",
       "    .dataframe tbody tr th:only-of-type {\n",
       "        vertical-align: middle;\n",
       "    }\n",
       "\n",
       "    .dataframe tbody tr th {\n",
       "        vertical-align: top;\n",
       "    }\n",
       "\n",
       "    .dataframe thead th {\n",
       "        text-align: right;\n",
       "    }\n",
       "</style>\n",
       "<table border=\"1\" class=\"dataframe\">\n",
       "  <thead>\n",
       "    <tr style=\"text-align: right;\">\n",
       "      <th></th>\n",
       "      <th>Patient Age</th>\n",
       "      <th>Blood cell count (mcL)</th>\n",
       "      <th>Mother's age</th>\n",
       "      <th>Father's age</th>\n",
       "      <th>No. of previous abortion</th>\n",
       "      <th>White Blood cell count (thousand per microliter)</th>\n",
       "      <th>Symptom 1</th>\n",
       "      <th>Symptom 2</th>\n",
       "      <th>Symptom 3</th>\n",
       "      <th>Symptom 4</th>\n",
       "      <th>Symptom 5</th>\n",
       "    </tr>\n",
       "  </thead>\n",
       "  <tbody>\n",
       "    <tr>\n",
       "      <th>0</th>\n",
       "      <td>2.0</td>\n",
       "      <td>4.760603</td>\n",
       "      <td>NaN</td>\n",
       "      <td>NaN</td>\n",
       "      <td>NaN</td>\n",
       "      <td>9.857562</td>\n",
       "      <td>1.0</td>\n",
       "      <td>1.0</td>\n",
       "      <td>1.0</td>\n",
       "      <td>1.0</td>\n",
       "      <td>1.0</td>\n",
       "    </tr>\n",
       "    <tr>\n",
       "      <th>1</th>\n",
       "      <td>4.0</td>\n",
       "      <td>4.910669</td>\n",
       "      <td>NaN</td>\n",
       "      <td>23.0</td>\n",
       "      <td>NaN</td>\n",
       "      <td>5.522560</td>\n",
       "      <td>1.0</td>\n",
       "      <td>NaN</td>\n",
       "      <td>1.0</td>\n",
       "      <td>1.0</td>\n",
       "      <td>0.0</td>\n",
       "    </tr>\n",
       "  </tbody>\n",
       "</table>\n",
       "</div>"
      ],
      "text/plain": [
       "   Patient Age  Blood cell count (mcL)  Mother's age  Father's age  \\\n",
       "0          2.0                4.760603           NaN           NaN   \n",
       "1          4.0                4.910669           NaN          23.0   \n",
       "\n",
       "   No. of previous abortion  White Blood cell count (thousand per microliter)  \\\n",
       "0                       NaN                                          9.857562   \n",
       "1                       NaN                                          5.522560   \n",
       "\n",
       "   Symptom 1  Symptom 2  Symptom 3  Symptom 4  Symptom 5  \n",
       "0        1.0        1.0        1.0        1.0        1.0  \n",
       "1        1.0        NaN        1.0        1.0        0.0  "
      ]
     },
     "execution_count": 27,
     "metadata": {},
     "output_type": "execute_result"
    }
   ],
   "source": [
    "numerical_df = X[numerical_feature]\n",
    "numerical_df.head(2)"
   ]
  },
  {
   "cell_type": "markdown",
   "metadata": {},
   "source": [
    "####  Get some insight from Numerical value"
   ]
  },
  {
   "cell_type": "code",
   "execution_count": 28,
   "metadata": {
    "scrolled": true
   },
   "outputs": [],
   "source": [
    "# plt.figure(figsize=(10,8))\n",
    "# sns.heatmap(numerical_df.corr(), annot=True, linewidths=2, linecolor='black', cmap='Blues')\n",
    "# plt.show()"
   ]
  },
  {
   "cell_type": "code",
   "execution_count": 29,
   "metadata": {},
   "outputs": [],
   "source": [
    "# sns.pairplot(numerical_df)"
   ]
  },
  {
   "cell_type": "code",
   "execution_count": 30,
   "metadata": {},
   "outputs": [],
   "source": [
    "# for i in numerical_df.columns:\n",
    "#     print('\\n\\n\\n')\n",
    "#     print(i)\n",
    "#     print(\"\\n\")\n",
    "#     #print(abs(numerical_df.corrwith(numerical_df[i]).sort_values(ascending=False)[: 5]))\n",
    "#     abs(numerical_df.corrwith(numerical_df[i]).sort_values(ascending=False)[1: 5]).plot(kind='bar')\n",
    "#     plt.show()"
   ]
  },
  {
   "cell_type": "markdown",
   "metadata": {},
   "source": [
    "By this Insight we can clearly see that Numerical variable doesn't correlated with each other. So we are trying to get some information from Categorical varialble"
   ]
  },
  {
   "cell_type": "markdown",
   "metadata": {},
   "source": [
    "##### Numerical without nan values"
   ]
  },
  {
   "cell_type": "code",
   "execution_count": 31,
   "metadata": {
    "scrolled": true
   },
   "outputs": [
    {
     "data": {
      "text/html": [
       "<div>\n",
       "<style scoped>\n",
       "    .dataframe tbody tr th:only-of-type {\n",
       "        vertical-align: middle;\n",
       "    }\n",
       "\n",
       "    .dataframe tbody tr th {\n",
       "        vertical-align: top;\n",
       "    }\n",
       "\n",
       "    .dataframe thead th {\n",
       "        text-align: right;\n",
       "    }\n",
       "</style>\n",
       "<table border=\"1\" class=\"dataframe\">\n",
       "  <thead>\n",
       "    <tr style=\"text-align: right;\">\n",
       "      <th></th>\n",
       "      <th>Patient Age</th>\n",
       "      <th>Blood cell count (mcL)</th>\n",
       "      <th>Mother's age</th>\n",
       "      <th>Father's age</th>\n",
       "      <th>No. of previous abortion</th>\n",
       "      <th>White Blood cell count (thousand per microliter)</th>\n",
       "      <th>Symptom 1</th>\n",
       "      <th>Symptom 2</th>\n",
       "      <th>Symptom 3</th>\n",
       "      <th>Symptom 4</th>\n",
       "      <th>Symptom 5</th>\n",
       "    </tr>\n",
       "  </thead>\n",
       "  <tbody>\n",
       "    <tr>\n",
       "      <th>8</th>\n",
       "      <td>11.0</td>\n",
       "      <td>5.209058</td>\n",
       "      <td>45.0</td>\n",
       "      <td>44.0</td>\n",
       "      <td>0.0</td>\n",
       "      <td>6.669552</td>\n",
       "      <td>1.0</td>\n",
       "      <td>1.0</td>\n",
       "      <td>1.0</td>\n",
       "      <td>0.0</td>\n",
       "      <td>1.0</td>\n",
       "    </tr>\n",
       "    <tr>\n",
       "      <th>9</th>\n",
       "      <td>4.0</td>\n",
       "      <td>4.752272</td>\n",
       "      <td>44.0</td>\n",
       "      <td>42.0</td>\n",
       "      <td>1.0</td>\n",
       "      <td>6.397702</td>\n",
       "      <td>0.0</td>\n",
       "      <td>0.0</td>\n",
       "      <td>1.0</td>\n",
       "      <td>1.0</td>\n",
       "      <td>1.0</td>\n",
       "    </tr>\n",
       "  </tbody>\n",
       "</table>\n",
       "</div>"
      ],
      "text/plain": [
       "   Patient Age  Blood cell count (mcL)  Mother's age  Father's age  \\\n",
       "8         11.0                5.209058          45.0          44.0   \n",
       "9          4.0                4.752272          44.0          42.0   \n",
       "\n",
       "   No. of previous abortion  White Blood cell count (thousand per microliter)  \\\n",
       "8                       0.0                                          6.669552   \n",
       "9                       1.0                                          6.397702   \n",
       "\n",
       "   Symptom 1  Symptom 2  Symptom 3  Symptom 4  Symptom 5  \n",
       "8        1.0        1.0        1.0        0.0        1.0  \n",
       "9        0.0        0.0        1.0        1.0        1.0  "
      ]
     },
     "execution_count": 31,
     "metadata": {},
     "output_type": "execute_result"
    }
   ],
   "source": [
    "num_non_null = numerical_df.dropna()\n",
    "num_non_null.head(2)"
   ]
  },
  {
   "cell_type": "markdown",
   "metadata": {},
   "source": [
    "##### Numerical with nan values"
   ]
  },
  {
   "cell_type": "code",
   "execution_count": 32,
   "metadata": {},
   "outputs": [
    {
     "data": {
      "text/html": [
       "<div>\n",
       "<style scoped>\n",
       "    .dataframe tbody tr th:only-of-type {\n",
       "        vertical-align: middle;\n",
       "    }\n",
       "\n",
       "    .dataframe tbody tr th {\n",
       "        vertical-align: top;\n",
       "    }\n",
       "\n",
       "    .dataframe thead th {\n",
       "        text-align: right;\n",
       "    }\n",
       "</style>\n",
       "<table border=\"1\" class=\"dataframe\">\n",
       "  <thead>\n",
       "    <tr style=\"text-align: right;\">\n",
       "      <th></th>\n",
       "      <th>Patient Age</th>\n",
       "      <th>Blood cell count (mcL)</th>\n",
       "      <th>Mother's age</th>\n",
       "      <th>Father's age</th>\n",
       "      <th>No. of previous abortion</th>\n",
       "      <th>White Blood cell count (thousand per microliter)</th>\n",
       "      <th>Symptom 1</th>\n",
       "      <th>Symptom 2</th>\n",
       "      <th>Symptom 3</th>\n",
       "      <th>Symptom 4</th>\n",
       "      <th>Symptom 5</th>\n",
       "    </tr>\n",
       "  </thead>\n",
       "  <tbody>\n",
       "    <tr>\n",
       "      <th>0</th>\n",
       "      <td>2.0</td>\n",
       "      <td>4.760603</td>\n",
       "      <td>NaN</td>\n",
       "      <td>NaN</td>\n",
       "      <td>NaN</td>\n",
       "      <td>9.857562</td>\n",
       "      <td>1.0</td>\n",
       "      <td>1.0</td>\n",
       "      <td>1.0</td>\n",
       "      <td>1.0</td>\n",
       "      <td>1.0</td>\n",
       "    </tr>\n",
       "    <tr>\n",
       "      <th>1</th>\n",
       "      <td>4.0</td>\n",
       "      <td>4.910669</td>\n",
       "      <td>NaN</td>\n",
       "      <td>23.0</td>\n",
       "      <td>NaN</td>\n",
       "      <td>5.522560</td>\n",
       "      <td>1.0</td>\n",
       "      <td>NaN</td>\n",
       "      <td>1.0</td>\n",
       "      <td>1.0</td>\n",
       "      <td>0.0</td>\n",
       "    </tr>\n",
       "  </tbody>\n",
       "</table>\n",
       "</div>"
      ],
      "text/plain": [
       "   Patient Age  Blood cell count (mcL)  Mother's age  Father's age  \\\n",
       "0          2.0                4.760603           NaN           NaN   \n",
       "1          4.0                4.910669           NaN          23.0   \n",
       "\n",
       "   No. of previous abortion  White Blood cell count (thousand per microliter)  \\\n",
       "0                       NaN                                          9.857562   \n",
       "1                       NaN                                          5.522560   \n",
       "\n",
       "   Symptom 1  Symptom 2  Symptom 3  Symptom 4  Symptom 5  \n",
       "0        1.0        1.0        1.0        1.0        1.0  \n",
       "1        1.0        NaN        1.0        1.0        0.0  "
      ]
     },
     "execution_count": 32,
     "metadata": {},
     "output_type": "execute_result"
    }
   ],
   "source": [
    "num_with_na = numerical_df[numerical_df.isna().any(axis=1)]\n",
    "num_with_na.head(2)"
   ]
  },
  {
   "cell_type": "markdown",
   "metadata": {},
   "source": [
    "#### Imputting nan values of numerical"
   ]
  },
  {
   "cell_type": "code",
   "execution_count": 33,
   "metadata": {},
   "outputs": [],
   "source": [
    "# num_non_null_without_index = num_non_null.drop(['index'], axis=1)\n",
    "# num_non_null_without_index.head(2)"
   ]
  },
  {
   "cell_type": "code",
   "execution_count": 34,
   "metadata": {},
   "outputs": [
    {
     "data": {
      "text/html": [
       "<div>\n",
       "<style scoped>\n",
       "    .dataframe tbody tr th:only-of-type {\n",
       "        vertical-align: middle;\n",
       "    }\n",
       "\n",
       "    .dataframe tbody tr th {\n",
       "        vertical-align: top;\n",
       "    }\n",
       "\n",
       "    .dataframe thead th {\n",
       "        text-align: right;\n",
       "    }\n",
       "</style>\n",
       "<table border=\"1\" class=\"dataframe\">\n",
       "  <thead>\n",
       "    <tr style=\"text-align: right;\">\n",
       "      <th></th>\n",
       "      <th>Patient Age</th>\n",
       "      <th>Blood cell count (mcL)</th>\n",
       "      <th>Mother's age</th>\n",
       "      <th>Father's age</th>\n",
       "      <th>No. of previous abortion</th>\n",
       "      <th>White Blood cell count (thousand per microliter)</th>\n",
       "      <th>Symptom 1</th>\n",
       "      <th>Symptom 2</th>\n",
       "      <th>Symptom 3</th>\n",
       "      <th>Symptom 4</th>\n",
       "      <th>Symptom 5</th>\n",
       "    </tr>\n",
       "  </thead>\n",
       "  <tbody>\n",
       "    <tr>\n",
       "      <th>0</th>\n",
       "      <td>2.0</td>\n",
       "      <td>4.760603</td>\n",
       "      <td>41.451377</td>\n",
       "      <td>45.628143</td>\n",
       "      <td>2.231678</td>\n",
       "      <td>9.857562</td>\n",
       "      <td>1.0</td>\n",
       "      <td>1.000000</td>\n",
       "      <td>1.0</td>\n",
       "      <td>1.0</td>\n",
       "      <td>1.0</td>\n",
       "    </tr>\n",
       "    <tr>\n",
       "      <th>1</th>\n",
       "      <td>4.0</td>\n",
       "      <td>4.910669</td>\n",
       "      <td>35.258318</td>\n",
       "      <td>23.000000</td>\n",
       "      <td>1.445991</td>\n",
       "      <td>5.522560</td>\n",
       "      <td>1.0</td>\n",
       "      <td>0.378151</td>\n",
       "      <td>1.0</td>\n",
       "      <td>1.0</td>\n",
       "      <td>0.0</td>\n",
       "    </tr>\n",
       "  </tbody>\n",
       "</table>\n",
       "</div>"
      ],
      "text/plain": [
       "   Patient Age  Blood cell count (mcL)  Mother's age  Father's age  \\\n",
       "0          2.0                4.760603     41.451377     45.628143   \n",
       "1          4.0                4.910669     35.258318     23.000000   \n",
       "\n",
       "   No. of previous abortion  White Blood cell count (thousand per microliter)  \\\n",
       "0                  2.231678                                          9.857562   \n",
       "1                  1.445991                                          5.522560   \n",
       "\n",
       "   Symptom 1  Symptom 2  Symptom 3  Symptom 4  Symptom 5  \n",
       "0        1.0   1.000000        1.0        1.0        1.0  \n",
       "1        1.0   0.378151        1.0        1.0        0.0  "
      ]
     },
     "execution_count": 34,
     "metadata": {},
     "output_type": "execute_result"
    }
   ],
   "source": [
    "from sklearn.impute import KNNImputer\n",
    "imputer_knn = KNNImputer(n_neighbors=5, weights='distance')\n",
    "imputer_knn.fit(num_non_null)\n",
    "\n",
    "\n",
    "num_imp = imputer_knn.transform(num_with_na)\n",
    "\n",
    "num_imp = pd.DataFrame(num_imp)\n",
    "num_imp.columns = num_with_na.columns\n",
    "num_imp.head(2)"
   ]
  },
  {
   "cell_type": "markdown",
   "metadata": {},
   "source": [
    "### Experimental 10"
   ]
  },
  {
   "cell_type": "code",
   "execution_count": 39,
   "metadata": {},
   "outputs": [
    {
     "data": {
      "text/html": [
       "<div>\n",
       "<style scoped>\n",
       "    .dataframe tbody tr th:only-of-type {\n",
       "        vertical-align: middle;\n",
       "    }\n",
       "\n",
       "    .dataframe tbody tr th {\n",
       "        vertical-align: top;\n",
       "    }\n",
       "\n",
       "    .dataframe thead th {\n",
       "        text-align: right;\n",
       "    }\n",
       "</style>\n",
       "<table border=\"1\" class=\"dataframe\">\n",
       "  <thead>\n",
       "    <tr style=\"text-align: right;\">\n",
       "      <th></th>\n",
       "      <th>Patient Age</th>\n",
       "      <th>Blood cell count (mcL)</th>\n",
       "      <th>Mother's age</th>\n",
       "      <th>Father's age</th>\n",
       "      <th>No. of previous abortion</th>\n",
       "      <th>White Blood cell count (thousand per microliter)</th>\n",
       "      <th>Symptom 1</th>\n",
       "      <th>Symptom 2</th>\n",
       "      <th>Symptom 3</th>\n",
       "      <th>Symptom 4</th>\n",
       "      <th>Symptom 5</th>\n",
       "    </tr>\n",
       "  </thead>\n",
       "  <tbody>\n",
       "    <tr>\n",
       "      <th>0</th>\n",
       "      <td>2.0</td>\n",
       "      <td>4.760603</td>\n",
       "      <td>36.979735</td>\n",
       "      <td>52.676732</td>\n",
       "      <td>0.365049</td>\n",
       "      <td>9.857562</td>\n",
       "      <td>1.0</td>\n",
       "      <td>1.000000</td>\n",
       "      <td>1.0</td>\n",
       "      <td>1.0</td>\n",
       "      <td>1.0</td>\n",
       "    </tr>\n",
       "    <tr>\n",
       "      <th>1</th>\n",
       "      <td>4.0</td>\n",
       "      <td>4.910669</td>\n",
       "      <td>35.665761</td>\n",
       "      <td>23.000000</td>\n",
       "      <td>1.864096</td>\n",
       "      <td>5.522560</td>\n",
       "      <td>1.0</td>\n",
       "      <td>0.102869</td>\n",
       "      <td>1.0</td>\n",
       "      <td>1.0</td>\n",
       "      <td>0.0</td>\n",
       "    </tr>\n",
       "  </tbody>\n",
       "</table>\n",
       "</div>"
      ],
      "text/plain": [
       "   Patient Age  Blood cell count (mcL)  Mother's age  Father's age  \\\n",
       "0          2.0                4.760603     36.979735     52.676732   \n",
       "1          4.0                4.910669     35.665761     23.000000   \n",
       "\n",
       "   No. of previous abortion  White Blood cell count (thousand per microliter)  \\\n",
       "0                  0.365049                                          9.857562   \n",
       "1                  1.864096                                          5.522560   \n",
       "\n",
       "   Symptom 1  Symptom 2  Symptom 3  Symptom 4  Symptom 5  \n",
       "0        1.0   1.000000        1.0        1.0        1.0  \n",
       "1        1.0   0.102869        1.0        1.0        0.0  "
      ]
     },
     "execution_count": 39,
     "metadata": {},
     "output_type": "execute_result"
    }
   ],
   "source": [
    "from sklearn.impute import KNNImputer\n",
    "imputer_knn = KNNImputer(n_neighbors=10, weights='distance')\n",
    "num_imp10 = imputer_knn.fit_transform(numerical_df)\n",
    "\n",
    "num_imp10 = pd.DataFrame(num_imp10)\n",
    "num_imp10.columns = numerical_df.columns\n",
    "num_imp10.head(2)"
   ]
  },
  {
   "cell_type": "markdown",
   "metadata": {},
   "source": [
    "### Experimental 5"
   ]
  },
  {
   "cell_type": "code",
   "execution_count": 40,
   "metadata": {},
   "outputs": [
    {
     "data": {
      "text/html": [
       "<div>\n",
       "<style scoped>\n",
       "    .dataframe tbody tr th:only-of-type {\n",
       "        vertical-align: middle;\n",
       "    }\n",
       "\n",
       "    .dataframe tbody tr th {\n",
       "        vertical-align: top;\n",
       "    }\n",
       "\n",
       "    .dataframe thead th {\n",
       "        text-align: right;\n",
       "    }\n",
       "</style>\n",
       "<table border=\"1\" class=\"dataframe\">\n",
       "  <thead>\n",
       "    <tr style=\"text-align: right;\">\n",
       "      <th></th>\n",
       "      <th>Patient Age</th>\n",
       "      <th>Blood cell count (mcL)</th>\n",
       "      <th>Mother's age</th>\n",
       "      <th>Father's age</th>\n",
       "      <th>No. of previous abortion</th>\n",
       "      <th>White Blood cell count (thousand per microliter)</th>\n",
       "      <th>Symptom 1</th>\n",
       "      <th>Symptom 2</th>\n",
       "      <th>Symptom 3</th>\n",
       "      <th>Symptom 4</th>\n",
       "      <th>Symptom 5</th>\n",
       "    </tr>\n",
       "  </thead>\n",
       "  <tbody>\n",
       "    <tr>\n",
       "      <th>0</th>\n",
       "      <td>2.0</td>\n",
       "      <td>4.760603</td>\n",
       "      <td>37.559808</td>\n",
       "      <td>54.160991</td>\n",
       "      <td>0.306545</td>\n",
       "      <td>9.857562</td>\n",
       "      <td>1.0</td>\n",
       "      <td>1.0</td>\n",
       "      <td>1.0</td>\n",
       "      <td>1.0</td>\n",
       "      <td>1.0</td>\n",
       "    </tr>\n",
       "    <tr>\n",
       "      <th>1</th>\n",
       "      <td>4.0</td>\n",
       "      <td>4.910669</td>\n",
       "      <td>34.631332</td>\n",
       "      <td>23.000000</td>\n",
       "      <td>2.016719</td>\n",
       "      <td>5.522560</td>\n",
       "      <td>1.0</td>\n",
       "      <td>0.0</td>\n",
       "      <td>1.0</td>\n",
       "      <td>1.0</td>\n",
       "      <td>0.0</td>\n",
       "    </tr>\n",
       "  </tbody>\n",
       "</table>\n",
       "</div>"
      ],
      "text/plain": [
       "   Patient Age  Blood cell count (mcL)  Mother's age  Father's age  \\\n",
       "0          2.0                4.760603     37.559808     54.160991   \n",
       "1          4.0                4.910669     34.631332     23.000000   \n",
       "\n",
       "   No. of previous abortion  White Blood cell count (thousand per microliter)  \\\n",
       "0                  0.306545                                          9.857562   \n",
       "1                  2.016719                                          5.522560   \n",
       "\n",
       "   Symptom 1  Symptom 2  Symptom 3  Symptom 4  Symptom 5  \n",
       "0        1.0        1.0        1.0        1.0        1.0  \n",
       "1        1.0        0.0        1.0        1.0        0.0  "
      ]
     },
     "execution_count": 40,
     "metadata": {},
     "output_type": "execute_result"
    }
   ],
   "source": [
    "from sklearn.impute import KNNImputer\n",
    "imputer_knn = KNNImputer(n_neighbors=5, weights='distance')\n",
    "num_imp5 = imputer_knn.fit_transform(numerical_df)\n",
    "\n",
    "num_imp5 = pd.DataFrame(num_imp5)\n",
    "num_imp5.columns = numerical_df.columns\n",
    "num_imp5.head(2)"
   ]
  },
  {
   "cell_type": "code",
   "execution_count": null,
   "metadata": {},
   "outputs": [],
   "source": []
  },
  {
   "cell_type": "code",
   "execution_count": null,
   "metadata": {},
   "outputs": [],
   "source": [
    "dsafsd"
   ]
  },
  {
   "cell_type": "markdown",
   "metadata": {},
   "source": [
    "#### data distrition"
   ]
  },
  {
   "cell_type": "code",
   "execution_count": 42,
   "metadata": {
    "scrolled": true
   },
   "outputs": [
    {
     "name": "stderr",
     "output_type": "stream",
     "text": [
      "C:\\Users\\User\\anaconda3\\lib\\site-packages\\seaborn\\distributions.py:2551: FutureWarning: `distplot` is a deprecated function and will be removed in a future version. Please adapt your code to use either `displot` (a figure-level function with similar flexibility) or `kdeplot` (an axes-level function for kernel density plots).\n",
      "  warnings.warn(msg, FutureWarning)\n",
      "C:\\Users\\User\\anaconda3\\lib\\site-packages\\seaborn\\distributions.py:2551: FutureWarning: `distplot` is a deprecated function and will be removed in a future version. Please adapt your code to use either `displot` (a figure-level function with similar flexibility) or `kdeplot` (an axes-level function for kernel density plots).\n",
      "  warnings.warn(msg, FutureWarning)\n",
      "C:\\Users\\User\\anaconda3\\lib\\site-packages\\seaborn\\distributions.py:2551: FutureWarning: `distplot` is a deprecated function and will be removed in a future version. Please adapt your code to use either `displot` (a figure-level function with similar flexibility) or `kdeplot` (an axes-level function for kernel density plots).\n",
      "  warnings.warn(msg, FutureWarning)\n",
      "C:\\Users\\User\\anaconda3\\lib\\site-packages\\seaborn\\distributions.py:2551: FutureWarning: `distplot` is a deprecated function and will be removed in a future version. Please adapt your code to use either `displot` (a figure-level function with similar flexibility) or `kdeplot` (an axes-level function for kernel density plots).\n",
      "  warnings.warn(msg, FutureWarning)\n"
     ]
    },
    {
     "data": {
      "image/png": "[encoded data removed]",
      "text/plain": [
       "<Figure size 432x288 with 1 Axes>"
      ]
     },
     "metadata": {
      "needs_background": "light"
     },
     "output_type": "display_data"
    },
    {
     "name": "stderr",
     "output_type": "stream",
     "text": [
      "C:\\Users\\User\\anaconda3\\lib\\site-packages\\seaborn\\distributions.py:2551: FutureWarning: `distplot` is a deprecated function and will be removed in a future version. Please adapt your code to use either `displot` (a figure-level function with similar flexibility) or `kdeplot` (an axes-level function for kernel density plots).\n",
      "  warnings.warn(msg, FutureWarning)\n",
      "C:\\Users\\User\\anaconda3\\lib\\site-packages\\seaborn\\distributions.py:2551: FutureWarning: `distplot` is a deprecated function and will be removed in a future version. Please adapt your code to use either `displot` (a figure-level function with similar flexibility) or `kdeplot` (an axes-level function for kernel density plots).\n",
      "  warnings.warn(msg, FutureWarning)\n",
      "C:\\Users\\User\\anaconda3\\lib\\site-packages\\seaborn\\distributions.py:2551: FutureWarning: `distplot` is a deprecated function and will be removed in a future version. Please adapt your code to use either `displot` (a figure-level function with similar flexibility) or `kdeplot` (an axes-level function for kernel density plots).\n",
      "  warnings.warn(msg, FutureWarning)\n",
      "C:\\Users\\User\\anaconda3\\lib\\site-packages\\seaborn\\distributions.py:2551: FutureWarning: `distplot` is a deprecated function and will be removed in a future version. Please adapt your code to use either `displot` (a figure-level function with similar flexibility) or `kdeplot` (an axes-level function for kernel density plots).\n",
      "  warnings.warn(msg, FutureWarning)\n"
     ]
    },
    {
     "data": {
      "image/png": "[encoded data removed]",
      "text/plain": [
       "<Figure size 432x288 with 1 Axes>"
      ]
     },
     "metadata": {
      "needs_background": "light"
     },
     "output_type": "display_data"
    },
    {
     "name": "stderr",
     "output_type": "stream",
     "text": [
      "C:\\Users\\User\\anaconda3\\lib\\site-packages\\seaborn\\distributions.py:2551: FutureWarning: `distplot` is a deprecated function and will be removed in a future version. Please adapt your code to use either `displot` (a figure-level function with similar flexibility) or `kdeplot` (an axes-level function for kernel density plots).\n",
      "  warnings.warn(msg, FutureWarning)\n",
      "C:\\Users\\User\\anaconda3\\lib\\site-packages\\seaborn\\distributions.py:2551: FutureWarning: `distplot` is a deprecated function and will be removed in a future version. Please adapt your code to use either `displot` (a figure-level function with similar flexibility) or `kdeplot` (an axes-level function for kernel density plots).\n",
      "  warnings.warn(msg, FutureWarning)\n",
      "C:\\Users\\User\\anaconda3\\lib\\site-packages\\seaborn\\distributions.py:2551: FutureWarning: `distplot` is a deprecated function and will be removed in a future version. Please adapt your code to use either `displot` (a figure-level function with similar flexibility) or `kdeplot` (an axes-level function for kernel density plots).\n",
      "  warnings.warn(msg, FutureWarning)\n",
      "C:\\Users\\User\\anaconda3\\lib\\site-packages\\seaborn\\distributions.py:2551: FutureWarning: `distplot` is a deprecated function and will be removed in a future version. Please adapt your code to use either `displot` (a figure-level function with similar flexibility) or `kdeplot` (an axes-level function for kernel density plots).\n",
      "  warnings.warn(msg, FutureWarning)\n"
     ]
    },
    {
     "data": {
      "image/png": "[encoded data removed]",
      "text/plain": [
       "<Figure size 432x288 with 1 Axes>"
      ]
     },
     "metadata": {
      "needs_background": "light"
     },
     "output_type": "display_data"
    },
    {
     "name": "stderr",
     "output_type": "stream",
     "text": [
      "C:\\Users\\User\\anaconda3\\lib\\site-packages\\seaborn\\distributions.py:2551: FutureWarning: `distplot` is a deprecated function and will be removed in a future version. Please adapt your code to use either `displot` (a figure-level function with similar flexibility) or `kdeplot` (an axes-level function for kernel density plots).\n",
      "  warnings.warn(msg, FutureWarning)\n",
      "C:\\Users\\User\\anaconda3\\lib\\site-packages\\seaborn\\distributions.py:2551: FutureWarning: `distplot` is a deprecated function and will be removed in a future version. Please adapt your code to use either `displot` (a figure-level function with similar flexibility) or `kdeplot` (an axes-level function for kernel density plots).\n",
      "  warnings.warn(msg, FutureWarning)\n",
      "C:\\Users\\User\\anaconda3\\lib\\site-packages\\seaborn\\distributions.py:2551: FutureWarning: `distplot` is a deprecated function and will be removed in a future version. Please adapt your code to use either `displot` (a figure-level function with similar flexibility) or `kdeplot` (an axes-level function for kernel density plots).\n",
      "  warnings.warn(msg, FutureWarning)\n",
      "C:\\Users\\User\\anaconda3\\lib\\site-packages\\seaborn\\distributions.py:2551: FutureWarning: `distplot` is a deprecated function and will be removed in a future version. Please adapt your code to use either `displot` (a figure-level function with similar flexibility) or `kdeplot` (an axes-level function for kernel density plots).\n",
      "  warnings.warn(msg, FutureWarning)\n"
     ]
    },
    {
     "data": {
      "image/png": "[encoded data removed]",
      "text/plain": [
       "<Figure size 432x288 with 1 Axes>"
      ]
     },
     "metadata": {
      "needs_background": "light"
     },
     "output_type": "display_data"
    },
    {
     "name": "stderr",
     "output_type": "stream",
     "text": [
      "C:\\Users\\User\\anaconda3\\lib\\site-packages\\seaborn\\distributions.py:2551: FutureWarning: `distplot` is a deprecated function and will be removed in a future version. Please adapt your code to use either `displot` (a figure-level function with similar flexibility) or `kdeplot` (an axes-level function for kernel density plots).\n",
      "  warnings.warn(msg, FutureWarning)\n",
      "C:\\Users\\User\\anaconda3\\lib\\site-packages\\seaborn\\distributions.py:2551: FutureWarning: `distplot` is a deprecated function and will be removed in a future version. Please adapt your code to use either `displot` (a figure-level function with similar flexibility) or `kdeplot` (an axes-level function for kernel density plots).\n",
      "  warnings.warn(msg, FutureWarning)\n",
      "C:\\Users\\User\\anaconda3\\lib\\site-packages\\seaborn\\distributions.py:2551: FutureWarning: `distplot` is a deprecated function and will be removed in a future version. Please adapt your code to use either `displot` (a figure-level function with similar flexibility) or `kdeplot` (an axes-level function for kernel density plots).\n",
      "  warnings.warn(msg, FutureWarning)\n",
      "C:\\Users\\User\\anaconda3\\lib\\site-packages\\seaborn\\distributions.py:2551: FutureWarning: `distplot` is a deprecated function and will be removed in a future version. Please adapt your code to use either `displot` (a figure-level function with similar flexibility) or `kdeplot` (an axes-level function for kernel density plots).\n",
      "  warnings.warn(msg, FutureWarning)\n"
     ]
    },
    {
     "data": {
      "image/png": "[encoded data removed]",
      "text/plain": [
       "<Figure size 432x288 with 1 Axes>"
      ]
     },
     "metadata": {
      "needs_background": "light"
     },
     "output_type": "display_data"
    },
    {
     "name": "stderr",
     "output_type": "stream",
     "text": [
      "C:\\Users\\User\\anaconda3\\lib\\site-packages\\seaborn\\distributions.py:2551: FutureWarning: `distplot` is a deprecated function and will be removed in a future version. Please adapt your code to use either `displot` (a figure-level function with similar flexibility) or `kdeplot` (an axes-level function for kernel density plots).\n",
      "  warnings.warn(msg, FutureWarning)\n",
      "C:\\Users\\User\\anaconda3\\lib\\site-packages\\seaborn\\distributions.py:2551: FutureWarning: `distplot` is a deprecated function and will be removed in a future version. Please adapt your code to use either `displot` (a figure-level function with similar flexibility) or `kdeplot` (an axes-level function for kernel density plots).\n",
      "  warnings.warn(msg, FutureWarning)\n",
      "C:\\Users\\User\\anaconda3\\lib\\site-packages\\seaborn\\distributions.py:2551: FutureWarning: `distplot` is a deprecated function and will be removed in a future version. Please adapt your code to use either `displot` (a figure-level function with similar flexibility) or `kdeplot` (an axes-level function for kernel density plots).\n",
      "  warnings.warn(msg, FutureWarning)\n",
      "C:\\Users\\User\\anaconda3\\lib\\site-packages\\seaborn\\distributions.py:2551: FutureWarning: `distplot` is a deprecated function and will be removed in a future version. Please adapt your code to use either `displot` (a figure-level function with similar flexibility) or `kdeplot` (an axes-level function for kernel density plots).\n",
      "  warnings.warn(msg, FutureWarning)\n"
     ]
    },
    {
     "data": {
      "image/png": "[encoded data removed]",
      "text/plain": [
       "<Figure size 432x288 with 1 Axes>"
      ]
     },
     "metadata": {
      "needs_background": "light"
     },
     "output_type": "display_data"
    },
    {
     "name": "stderr",
     "output_type": "stream",
     "text": [
      "C:\\Users\\User\\anaconda3\\lib\\site-packages\\seaborn\\distributions.py:2551: FutureWarning: `distplot` is a deprecated function and will be removed in a future version. Please adapt your code to use either `displot` (a figure-level function with similar flexibility) or `kdeplot` (an axes-level function for kernel density plots).\n",
      "  warnings.warn(msg, FutureWarning)\n",
      "C:\\Users\\User\\anaconda3\\lib\\site-packages\\seaborn\\distributions.py:2551: FutureWarning: `distplot` is a deprecated function and will be removed in a future version. Please adapt your code to use either `displot` (a figure-level function with similar flexibility) or `kdeplot` (an axes-level function for kernel density plots).\n",
      "  warnings.warn(msg, FutureWarning)\n",
      "C:\\Users\\User\\anaconda3\\lib\\site-packages\\seaborn\\distributions.py:2551: FutureWarning: `distplot` is a deprecated function and will be removed in a future version. Please adapt your code to use either `displot` (a figure-level function with similar flexibility) or `kdeplot` (an axes-level function for kernel density plots).\n",
      "  warnings.warn(msg, FutureWarning)\n",
      "C:\\Users\\User\\anaconda3\\lib\\site-packages\\seaborn\\distributions.py:2551: FutureWarning: `distplot` is a deprecated function and will be removed in a future version. Please adapt your code to use either `displot` (a figure-level function with similar flexibility) or `kdeplot` (an axes-level function for kernel density plots).\n",
      "  warnings.warn(msg, FutureWarning)\n"
     ]
    },
    {
     "data": {
      "image/png": "[encoded data removed]",
      "text/plain": [
       "<Figure size 432x288 with 1 Axes>"
      ]
     },
     "metadata": {
      "needs_background": "light"
     },
     "output_type": "display_data"
    },
    {
     "name": "stderr",
     "output_type": "stream",
     "text": [
      "C:\\Users\\User\\anaconda3\\lib\\site-packages\\seaborn\\distributions.py:2551: FutureWarning: `distplot` is a deprecated function and will be removed in a future version. Please adapt your code to use either `displot` (a figure-level function with similar flexibility) or `kdeplot` (an axes-level function for kernel density plots).\n",
      "  warnings.warn(msg, FutureWarning)\n",
      "C:\\Users\\User\\anaconda3\\lib\\site-packages\\seaborn\\distributions.py:2551: FutureWarning: `distplot` is a deprecated function and will be removed in a future version. Please adapt your code to use either `displot` (a figure-level function with similar flexibility) or `kdeplot` (an axes-level function for kernel density plots).\n",
      "  warnings.warn(msg, FutureWarning)\n",
      "C:\\Users\\User\\anaconda3\\lib\\site-packages\\seaborn\\distributions.py:2551: FutureWarning: `distplot` is a deprecated function and will be removed in a future version. Please adapt your code to use either `displot` (a figure-level function with similar flexibility) or `kdeplot` (an axes-level function for kernel density plots).\n",
      "  warnings.warn(msg, FutureWarning)\n",
      "C:\\Users\\User\\anaconda3\\lib\\site-packages\\seaborn\\distributions.py:2551: FutureWarning: `distplot` is a deprecated function and will be removed in a future version. Please adapt your code to use either `displot` (a figure-level function with similar flexibility) or `kdeplot` (an axes-level function for kernel density plots).\n",
      "  warnings.warn(msg, FutureWarning)\n"
     ]
    },
    {
     "data": {
      "image/png": "[encoded data removed]",
      "text/plain": [
       "<Figure size 432x288 with 1 Axes>"
      ]
     },
     "metadata": {
      "needs_background": "light"
     },
     "output_type": "display_data"
    },
    {
     "name": "stderr",
     "output_type": "stream",
     "text": [
      "C:\\Users\\User\\anaconda3\\lib\\site-packages\\seaborn\\distributions.py:2551: FutureWarning: `distplot` is a deprecated function and will be removed in a future version. Please adapt your code to use either `displot` (a figure-level function with similar flexibility) or `kdeplot` (an axes-level function for kernel density plots).\n",
      "  warnings.warn(msg, FutureWarning)\n",
      "C:\\Users\\User\\anaconda3\\lib\\site-packages\\seaborn\\distributions.py:2551: FutureWarning: `distplot` is a deprecated function and will be removed in a future version. Please adapt your code to use either `displot` (a figure-level function with similar flexibility) or `kdeplot` (an axes-level function for kernel density plots).\n",
      "  warnings.warn(msg, FutureWarning)\n",
      "C:\\Users\\User\\anaconda3\\lib\\site-packages\\seaborn\\distributions.py:2551: FutureWarning: `distplot` is a deprecated function and will be removed in a future version. Please adapt your code to use either `displot` (a figure-level function with similar flexibility) or `kdeplot` (an axes-level function for kernel density plots).\n",
      "  warnings.warn(msg, FutureWarning)\n",
      "C:\\Users\\User\\anaconda3\\lib\\site-packages\\seaborn\\distributions.py:2551: FutureWarning: `distplot` is a deprecated function and will be removed in a future version. Please adapt your code to use either `displot` (a figure-level function with similar flexibility) or `kdeplot` (an axes-level function for kernel density plots).\n",
      "  warnings.warn(msg, FutureWarning)\n"
     ]
    },
    {
     "data": {
      "image/png": "[encoded data removed]",
      "text/plain": [
       "<Figure size 432x288 with 1 Axes>"
      ]
     },
     "metadata": {
      "needs_background": "light"
     },
     "output_type": "display_data"
    },
    {
     "name": "stderr",
     "output_type": "stream",
     "text": [
      "C:\\Users\\User\\anaconda3\\lib\\site-packages\\seaborn\\distributions.py:2551: FutureWarning: `distplot` is a deprecated function and will be removed in a future version. Please adapt your code to use either `displot` (a figure-level function with similar flexibility) or `kdeplot` (an axes-level function for kernel density plots).\n",
      "  warnings.warn(msg, FutureWarning)\n",
      "C:\\Users\\User\\anaconda3\\lib\\site-packages\\seaborn\\distributions.py:2551: FutureWarning: `distplot` is a deprecated function and will be removed in a future version. Please adapt your code to use either `displot` (a figure-level function with similar flexibility) or `kdeplot` (an axes-level function for kernel density plots).\n",
      "  warnings.warn(msg, FutureWarning)\n",
      "C:\\Users\\User\\anaconda3\\lib\\site-packages\\seaborn\\distributions.py:2551: FutureWarning: `distplot` is a deprecated function and will be removed in a future version. Please adapt your code to use either `displot` (a figure-level function with similar flexibility) or `kdeplot` (an axes-level function for kernel density plots).\n",
      "  warnings.warn(msg, FutureWarning)\n",
      "C:\\Users\\User\\anaconda3\\lib\\site-packages\\seaborn\\distributions.py:2551: FutureWarning: `distplot` is a deprecated function and will be removed in a future version. Please adapt your code to use either `displot` (a figure-level function with similar flexibility) or `kdeplot` (an axes-level function for kernel density plots).\n",
      "  warnings.warn(msg, FutureWarning)\n"
     ]
    },
    {
     "data": {
      "image/png": "[encoded data removed]",
      "text/plain": [
       "<Figure size 432x288 with 1 Axes>"
      ]
     },
     "metadata": {
      "needs_background": "light"
     },
     "output_type": "display_data"
    },
    {
     "name": "stderr",
     "output_type": "stream",
     "text": [
      "C:\\Users\\User\\anaconda3\\lib\\site-packages\\seaborn\\distributions.py:2551: FutureWarning: `distplot` is a deprecated function and will be removed in a future version. Please adapt your code to use either `displot` (a figure-level function with similar flexibility) or `kdeplot` (an axes-level function for kernel density plots).\n",
      "  warnings.warn(msg, FutureWarning)\n",
      "C:\\Users\\User\\anaconda3\\lib\\site-packages\\seaborn\\distributions.py:2551: FutureWarning: `distplot` is a deprecated function and will be removed in a future version. Please adapt your code to use either `displot` (a figure-level function with similar flexibility) or `kdeplot` (an axes-level function for kernel density plots).\n",
      "  warnings.warn(msg, FutureWarning)\n",
      "C:\\Users\\User\\anaconda3\\lib\\site-packages\\seaborn\\distributions.py:2551: FutureWarning: `distplot` is a deprecated function and will be removed in a future version. Please adapt your code to use either `displot` (a figure-level function with similar flexibility) or `kdeplot` (an axes-level function for kernel density plots).\n",
      "  warnings.warn(msg, FutureWarning)\n",
      "C:\\Users\\User\\anaconda3\\lib\\site-packages\\seaborn\\distributions.py:2551: FutureWarning: `distplot` is a deprecated function and will be removed in a future version. Please adapt your code to use either `displot` (a figure-level function with similar flexibility) or `kdeplot` (an axes-level function for kernel density plots).\n",
      "  warnings.warn(msg, FutureWarning)\n"
     ]
    },
    {
     "data": {
      "image/png": "[encoded data removed]",
      "text/plain": [
       "<Figure size 432x288 with 1 Axes>"
      ]
     },
     "metadata": {
      "needs_background": "light"
     },
     "output_type": "display_data"
    }
   ],
   "source": [
    "for i in numerical_df:\n",
    "    sns.distplot(numerical_df[i], hist=False, label=\"Before Imputing\")\n",
    "    sns.distplot(num_imp[i], hist=False, label=\"After Imputing\")\n",
    "    sns.distplot(num_imp10[i], hist=False, label=\"EXP_10_After Imputing\")\n",
    "    sns.distplot(num_imp5[i], hist=False, label=\"EXP_5_After Imputing\")\n",
    "    plt.legend(loc='best')\n",
    "    plt.show()"
   ]
  },
  {
   "cell_type": "markdown",
   "metadata": {},
   "source": [
    "By this insight we can see that values are almost same but some columns are need to be looked.\n",
    "We can perform better by **HyperParameter Tunning in KnnImputer**"
   ]
  },
  {
   "cell_type": "code",
   "execution_count": null,
   "metadata": {},
   "outputs": [],
   "source": []
  },
  {
   "cell_type": "markdown",
   "metadata": {},
   "source": [
    "### Categorical Df"
   ]
  },
  {
   "cell_type": "code",
   "execution_count": null,
   "metadata": {
    "scrolled": true
   },
   "outputs": [],
   "source": [
    "categorical_df = X[[feature for feature in X.columns if X[feature].dtype =='O']]\n",
    "categorical_df.head(2)"
   ]
  },
  {
   "cell_type": "markdown",
   "metadata": {},
   "source": [
    "#### Encoding The Categorical_df to impute Nan values"
   ]
  },
  {
   "cell_type": "code",
   "execution_count": null,
   "metadata": {},
   "outputs": [],
   "source": [
    "for col in categorical_df:\n",
    "    \n",
    "    vl_cnts = [vc for vc in categorical_df[col].value_counts().keys()]\n",
    "    dictn = {}\n",
    "    \n",
    "    for encode_value, index_no in enumerate(vl_cnts):\n",
    "        dictn[index_no] = encode_value\n",
    "    \n",
    "    categorical_df[col] = categorical_df[col].map(dictn)"
   ]
  },
  {
   "cell_type": "code",
   "execution_count": null,
   "metadata": {},
   "outputs": [],
   "source": [
    "categorical_df.head(2)"
   ]
  },
  {
   "cell_type": "markdown",
   "metadata": {},
   "source": [
    "##### Categorical value without nan values"
   ]
  },
  {
   "cell_type": "code",
   "execution_count": null,
   "metadata": {},
   "outputs": [],
   "source": [
    "cat_non_null = categorical_df.dropna()\n",
    "cat_non_null.head(2)"
   ]
  },
  {
   "cell_type": "markdown",
   "metadata": {},
   "source": [
    "##### Categorical value with nan values"
   ]
  },
  {
   "cell_type": "code",
   "execution_count": null,
   "metadata": {
    "scrolled": true
   },
   "outputs": [],
   "source": [
    "cat_with_na = categorical_df[categorical_df.isna().any(axis=1)]\n",
    "cat_with_na.head(2)"
   ]
  },
  {
   "cell_type": "markdown",
   "metadata": {},
   "source": [
    "#### Imputing nan values of Categorical values"
   ]
  },
  {
   "cell_type": "code",
   "execution_count": null,
   "metadata": {
    "scrolled": true
   },
   "outputs": [],
   "source": [
    "imputer_knn.fit(cat_non_null)\n",
    "\n",
    "cat_imp = imputer_knn.transform(cat_with_na)\n",
    "\n",
    "cat_imp = pd.DataFrame(cat_imp)\n",
    "cat_imp.columns = cat_with_na.columns\n",
    "cat_imp.head(2)"
   ]
  },
  {
   "cell_type": "markdown",
   "metadata": {},
   "source": [
    "n_neighbour and weight is hyperparameter"
   ]
  },
  {
   "cell_type": "markdown",
   "metadata": {},
   "source": [
    "#### Threshold need to be Performed"
   ]
  },
  {
   "cell_type": "markdown",
   "metadata": {},
   "source": [
    "Here in  column's unique value you can see that the value is not discretly distributed[0, 1, 2, 3] but in [0.4, 0.8, 1, 0, 2.6, 3] so we need to make a thresholdlike  \n",
    "<0.5 = 0, \n",
    "<= 1.5 = 1\n",
    "<= 2.5 = 2"
   ]
  },
  {
   "cell_type": "code",
   "execution_count": null,
   "metadata": {
    "scrolled": true
   },
   "outputs": [],
   "source": [
    "for  col in cat_imp:\n",
    "    for indx, val in enumerate(cat_imp[col]):\n",
    "        \n",
    "        if val <= 0.5:\n",
    "            cat_imp[col][indx] = 0\n",
    "            \n",
    "        elif (val >0.5) & (val <= 1.5):\n",
    "            cat_imp[col][indx] = 1\n",
    "        \n",
    "        elif (val >1.5) & (val <= 2.5):\n",
    "            cat_imp[col][indx] = 2\n",
    "            \n",
    "        elif (val >2.5) & (val <= 3.5):\n",
    "            cat_imp[col][indx] = 3\n",
    "            \n",
    "        elif (val >3.5) & (val <= 4):\n",
    "            cat_imp[col][indx] = 4"
   ]
  },
  {
   "cell_type": "markdown",
   "metadata": {},
   "source": [
    "#### Data Distribution"
   ]
  },
  {
   "cell_type": "code",
   "execution_count": null,
   "metadata": {},
   "outputs": [],
   "source": [
    "for i in categorical_df:\n",
    "    sns.distplot(categorical_df[i], hist=False, label=\"Before Imputing\")\n",
    "    sns.distplot(cat_imp[i], hist=False, label=\"After Imputing\")\n",
    "    plt.legend(loc='best')\n",
    "    plt.show()"
   ]
  },
  {
   "cell_type": "markdown",
   "metadata": {},
   "source": [
    "### Join cat_imp and **cat_non_null** as full Categorical df"
   ]
  },
  {
   "cell_type": "code",
   "execution_count": null,
   "metadata": {},
   "outputs": [],
   "source": [
    "cat_full = pd.concat([cat_imp, cat_non_null], axis=0, ignore_index=True)\n",
    "cat_full.shape"
   ]
  },
  {
   "cell_type": "code",
   "execution_count": null,
   "metadata": {},
   "outputs": [],
   "source": []
  },
  {
   "cell_type": "markdown",
   "metadata": {},
   "source": [
    "### Join num_imp and **num_non_null** as full Numerical df"
   ]
  },
  {
   "cell_type": "code",
   "execution_count": null,
   "metadata": {
    "scrolled": true
   },
   "outputs": [],
   "source": [
    "num_full = pd.concat([num_imp, num_non_null], axis=0, ignore_index=True)\n",
    "num_full.shape"
   ]
  },
  {
   "cell_type": "markdown",
   "metadata": {},
   "source": [
    "### Full DataFrame (cat + num)"
   ]
  },
  {
   "cell_type": "code",
   "execution_count": null,
   "metadata": {},
   "outputs": [],
   "source": [
    "data = pd.concat([num_full, cat_full], axis=1)\n",
    "data.head(2)"
   ]
  },
  {
   "cell_type": "code",
   "execution_count": null,
   "metadata": {},
   "outputs": [],
   "source": [
    "data.shape"
   ]
  },
  {
   "cell_type": "code",
   "execution_count": null,
   "metadata": {},
   "outputs": [],
   "source": [
    "cat_full.shape, X.shape, categorical_df.shape, cat_with_na.shape, cat_non_null.shape, cat_imp.shape, data.shape"
   ]
  },
  {
   "cell_type": "code",
   "execution_count": null,
   "metadata": {},
   "outputs": [],
   "source": [
    "X.shape, data.shape"
   ]
  },
  {
   "cell_type": "code",
   "execution_count": null,
   "metadata": {},
   "outputs": [],
   "source": [
    "cat_with_na.shape, cat_non_null.shape, cat_imp.shape,"
   ]
  },
  {
   "cell_type": "code",
   "execution_count": null,
   "metadata": {},
   "outputs": [],
   "source": [
    "num_with_na.shape, num_non_null.shape, num_imp.shape,"
   ]
  },
  {
   "cell_type": "code",
   "execution_count": null,
   "metadata": {},
   "outputs": [],
   "source": []
  },
  {
   "cell_type": "code",
   "execution_count": null,
   "metadata": {},
   "outputs": [],
   "source": []
  },
  {
   "cell_type": "code",
   "execution_count": null,
   "metadata": {},
   "outputs": [],
   "source": []
  },
  {
   "cell_type": "code",
   "execution_count": null,
   "metadata": {},
   "outputs": [],
   "source": []
  },
  {
   "cell_type": "code",
   "execution_count": null,
   "metadata": {},
   "outputs": [],
   "source": []
  },
  {
   "cell_type": "code",
   "execution_count": null,
   "metadata": {},
   "outputs": [],
   "source": []
  },
  {
   "cell_type": "code",
   "execution_count": null,
   "metadata": {},
   "outputs": [],
   "source": [
    "b = num_with_na.reset_index()\n",
    "b.head(10)"
   ]
  },
  {
   "cell_type": "code",
   "execution_count": null,
   "metadata": {},
   "outputs": [],
   "source": [
    "num_non_null.reset_index()\n"
   ]
  },
  {
   "cell_type": "code",
   "execution_count": null,
   "metadata": {},
   "outputs": [],
   "source": []
  },
  {
   "cell_type": "code",
   "execution_count": null,
   "metadata": {},
   "outputs": [],
   "source": []
  },
  {
   "cell_type": "code",
   "execution_count": null,
   "metadata": {},
   "outputs": [],
   "source": []
  },
  {
   "cell_type": "code",
   "execution_count": null,
   "metadata": {},
   "outputs": [],
   "source": []
  },
  {
   "cell_type": "code",
   "execution_count": null,
   "metadata": {
    "scrolled": true
   },
   "outputs": [],
   "source": [
    "a = num_full.reset_index()\n",
    "a "
   ]
  },
  {
   "cell_type": "code",
   "execution_count": null,
   "metadata": {},
   "outputs": [],
   "source": []
  },
  {
   "cell_type": "code",
   "execution_count": null,
   "metadata": {},
   "outputs": [],
   "source": []
  },
  {
   "cell_type": "code",
   "execution_count": null,
   "metadata": {},
   "outputs": [],
   "source": []
  },
  {
   "cell_type": "code",
   "execution_count": null,
   "metadata": {},
   "outputs": [],
   "source": []
  },
  {
   "cell_type": "code",
   "execution_count": null,
   "metadata": {},
   "outputs": [],
   "source": []
  },
  {
   "cell_type": "code",
   "execution_count": null,
   "metadata": {},
   "outputs": [],
   "source": [
    "19915*19"
   ]
  },
  {
   "cell_type": "code",
   "execution_count": null,
   "metadata": {},
   "outputs": [],
   "source": [
    "dsfdsfdsd"
   ]
  },
  {
   "cell_type": "markdown",
   "metadata": {},
   "source": [
    "### Dython Library"
   ]
  },
  {
   "cell_type": "code",
   "execution_count": null,
   "metadata": {},
   "outputs": [],
   "source": [
    "from dython.nominal import associations"
   ]
  },
  {
   "cell_type": "markdown",
   "metadata": {},
   "source": [
    "#### Correlation b/w categorical to Categorical"
   ]
  },
  {
   "cell_type": "code",
   "execution_count": null,
   "metadata": {
    "scrolled": true
   },
   "outputs": [],
   "source": [
    "# #associations(X[categorical_feature])['corr'] # to get only corr\n",
    "# # associations(X[categorical_feature])['ax'] # to get only plot\n",
    "# associations(X[categorical_feature], figsize=(15, 10)) # To get both\n"
   ]
  },
  {
   "cell_type": "markdown",
   "metadata": {},
   "source": [
    "#### Correlation b/w Numerical to Categorical all"
   ]
  },
  {
   "cell_type": "code",
   "execution_count": null,
   "metadata": {
    "scrolled": true
   },
   "outputs": [],
   "source": [
    "# associations(X)"
   ]
  },
  {
   "cell_type": "markdown",
   "metadata": {},
   "source": [
    "#### Correlation b/w Numerical to numerical"
   ]
  },
  {
   "cell_type": "code",
   "execution_count": null,
   "metadata": {
    "scrolled": true
   },
   "outputs": [],
   "source": [
    "X.corr()"
   ]
  },
  {
   "cell_type": "markdown",
   "metadata": {},
   "source": [
    "from all this correlation we can get that only **Autopsy shows birth defect (if applicable)** has higher correlation with **status**"
   ]
  },
  {
   "cell_type": "code",
   "execution_count": null,
   "metadata": {},
   "outputs": [],
   "source": [
    "dsfasdf"
   ]
  },
  {
   "cell_type": "markdown",
   "metadata": {},
   "source": [
    "### Let's Impute"
   ]
  },
  {
   "cell_type": "code",
   "execution_count": null,
   "metadata": {},
   "outputs": [],
   "source": [
    "# from sklearn.impute._iterative import IterativeImputer\n",
    "# imputer_it = IterativeImputer()\n",
    "# x1 = X.copy()\n",
    "# imputer_it.fit_transform(x1)"
   ]
  },
  {
   "cell_type": "code",
   "execution_count": null,
   "metadata": {},
   "outputs": [],
   "source": [
    "# from sklearn.impute import KNNImputer\n",
    "# knn_imputer = KNNImputer()\n",
    "# x2 = x1.copy()\n",
    "# x2 = knn_imputer.fit_transform(x2)\n",
    "# x3 = knn_imputer.transform(x1[['Patient Age']])"
   ]
  },
  {
   "cell_type": "code",
   "execution_count": null,
   "metadata": {},
   "outputs": [],
   "source": [
    "# x2 = pd.DataFrame(x2)"
   ]
  },
  {
   "cell_type": "code",
   "execution_count": null,
   "metadata": {},
   "outputs": [],
   "source": []
  },
  {
   "cell_type": "code",
   "execution_count": null,
   "metadata": {},
   "outputs": [],
   "source": []
  },
  {
   "cell_type": "code",
   "execution_count": null,
   "metadata": {},
   "outputs": [],
   "source": []
  },
  {
   "cell_type": "code",
   "execution_count": null,
   "metadata": {},
   "outputs": [],
   "source": []
  },
  {
   "cell_type": "markdown",
   "metadata": {},
   "source": [
    "### Encoding Categorical Data"
   ]
  },
  {
   "cell_type": "markdown",
   "metadata": {},
   "source": [
    "get Some Information from Categorical value by Encoding The Categorical value"
   ]
  },
  {
   "cell_type": "code",
   "execution_count": null,
   "metadata": {},
   "outputs": [],
   "source": [
    "# X[categorical_feature].head(2)"
   ]
  },
  {
   "cell_type": "code",
   "execution_count": null,
   "metadata": {
    "scrolled": true
   },
   "outputs": [],
   "source": [
    "# for i in X[categorical_feature].columns:\n",
    "#     print(i)\n",
    "#     print(X[categorical_feature][i].value_counts())\n",
    "#     print(\"\\n\\n\")"
   ]
  },
  {
   "cell_type": "code",
   "execution_count": null,
   "metadata": {},
   "outputs": [],
   "source": [
    "# # Columns That should be Visualize with Countplot\n",
    "\n",
    "# spcl_col = X[['Birth asphyxia', \"Autopsy shows birth defect (if applicable)\", \"H/O radiation exposure (x-ray)\", \"H/O substance abuse\", \"Blood test result\"]]"
   ]
  },
  {
   "cell_type": "code",
   "execution_count": null,
   "metadata": {
    "scrolled": true
   },
   "outputs": [],
   "source": [
    "# for i in spcl_col.columns:\n",
    "#     sns.countplot(spcl_col[i], hue=y)\n",
    "#     plt.show()"
   ]
  },
  {
   "cell_type": "markdown",
   "metadata": {},
   "source": [
    "from this we can know that nominal encoding will be enough"
   ]
  },
  {
   "cell_type": "markdown",
   "metadata": {},
   "source": [
    "##### Encode The Categorical Data"
   ]
  },
  {
   "cell_type": "code",
   "execution_count": null,
   "metadata": {},
   "outputs": [],
   "source": [
    "# from sklearn.preprocessing import OneHotEncoder, LabelEncoder\n",
    "# from sklearn.compose import ColumnTransformer\n",
    "\n",
    "# transformer = ColumnTransformer(('ohe', OneHotEncoder(sparse=False, drop='first'),[1,2,3,4,8,9,10,11,12,15,16,19,20,22]),\n",
    "                                              \n",
    "#                                              (\"lbl_encode\", LabelEncoder(), [13,14,17,18,24]), remainder='passthrough')\n",
    "\n",
    "# # transformer.fit_transform(X)"
   ]
  },
  {
   "cell_type": "markdown",
   "metadata": {},
   "source": [
    "Not working"
   ]
  },
  {
   "cell_type": "markdown",
   "metadata": {},
   "source": [
    "### Encoding Technique"
   ]
  },
  {
   "cell_type": "code",
   "execution_count": null,
   "metadata": {},
   "outputs": [],
   "source": []
  },
  {
   "cell_type": "code",
   "execution_count": null,
   "metadata": {},
   "outputs": [],
   "source": [
    "# x = X.copy()"
   ]
  },
  {
   "cell_type": "code",
   "execution_count": null,
   "metadata": {},
   "outputs": [],
   "source": [
    "# ohe_col = pd.get_dummies(x[x.columns[[1,2,3,4,8,9,10,11,12,15,16,19,20,22]]], drop_first=True)"
   ]
  },
  {
   "cell_type": "code",
   "execution_count": null,
   "metadata": {
    "scrolled": true
   },
   "outputs": [],
   "source": [
    "# from sklearn.preprocessing import OneHotEncoder, LabelEncoder\n",
    "# lbl_enc = LabelEncoder()\n",
    "\n",
    "# for i in [13,14,17,18,24]:\n",
    "#     x[x.columns[i]] = lbl_enc.fit_transform(x[x.columns[i]])"
   ]
  },
  {
   "cell_type": "code",
   "execution_count": null,
   "metadata": {
    "scrolled": true
   },
   "outputs": [],
   "source": [
    "# x.drop(X.columns[[1,2,3,4,8,9,10,11,12,15,16,19,20,22]], axis=1, inplace=True)\n"
   ]
  },
  {
   "cell_type": "code",
   "execution_count": null,
   "metadata": {},
   "outputs": [],
   "source": [
    "# x1 = pd.concat([x, ohe_col], axis=1)\n",
    "# x1.head()"
   ]
  },
  {
   "cell_type": "markdown",
   "metadata": {},
   "source": [
    "Now find the Combination from Categorical value"
   ]
  },
  {
   "cell_type": "code",
   "execution_count": null,
   "metadata": {},
   "outputs": [],
   "source": [
    "# plt.figure(figsize=(25, 20))\n",
    "# sns.heatmap(x1.corr(), annot=True, linecolor='black', linewidths=1, cmap='Blues')\n",
    "# plt.show()"
   ]
  },
  {
   "cell_type": "code",
   "execution_count": null,
   "metadata": {},
   "outputs": [],
   "source": []
  },
  {
   "cell_type": "code",
   "execution_count": null,
   "metadata": {},
   "outputs": [],
   "source": []
  },
  {
   "cell_type": "code",
   "execution_count": null,
   "metadata": {},
   "outputs": [],
   "source": []
  },
  {
   "cell_type": "code",
   "execution_count": null,
   "metadata": {
    "scrolled": true
   },
   "outputs": [],
   "source": [
    "# from sklearn.impute._iterative import IterativeImputer\n",
    "# imputer_it = IterativeImputer()\n",
    "# x1 = X.copy()\n",
    "# imputer_it.fit_transform(x1)"
   ]
  },
  {
   "cell_type": "code",
   "execution_count": null,
   "metadata": {},
   "outputs": [],
   "source": []
  },
  {
   "cell_type": "code",
   "execution_count": null,
   "metadata": {},
   "outputs": [],
   "source": []
  },
  {
   "cell_type": "code",
   "execution_count": null,
   "metadata": {},
   "outputs": [],
   "source": []
  },
  {
   "cell_type": "code",
   "execution_count": null,
   "metadata": {},
   "outputs": [],
   "source": []
  },
  {
   "cell_type": "markdown",
   "metadata": {},
   "source": [
    "### Handling Imbalance Dataset by OverSampling"
   ]
  },
  {
   "cell_type": "code",
   "execution_count": null,
   "metadata": {},
   "outputs": [],
   "source": [
    "# from imblearn.over_sampling import RandomOverSampler\n",
    "# os = RandomOverSampler(0.5)"
   ]
  },
  {
   "cell_type": "code",
   "execution_count": null,
   "metadata": {},
   "outputs": [],
   "source": []
  },
  {
   "cell_type": "markdown",
   "metadata": {},
   "source": [
    "### New Style"
   ]
  },
  {
   "cell_type": "markdown",
   "metadata": {},
   "source": [
    "##### categorical values without nan"
   ]
  },
  {
   "cell_type": "code",
   "execution_count": null,
   "metadata": {},
   "outputs": [],
   "source": [
    "cat_n_null = X[categorical_feature].dropna()"
   ]
  },
  {
   "cell_type": "code",
   "execution_count": null,
   "metadata": {},
   "outputs": [],
   "source": [
    "cat_n_null.head(2)"
   ]
  },
  {
   "cell_type": "code",
   "execution_count": null,
   "metadata": {},
   "outputs": [],
   "source": [
    "cat = cat_n_null.copy()"
   ]
  },
  {
   "cell_type": "code",
   "execution_count": null,
   "metadata": {
    "scrolled": true
   },
   "outputs": [],
   "source": [
    "ohe_col = pd.get_dummies(cat[cat.columns[[0,1,2,3,4,5,6,7,8,11,12,15,16,17]]], drop_first=True)"
   ]
  },
  {
   "cell_type": "code",
   "execution_count": null,
   "metadata": {},
   "outputs": [],
   "source": [
    "from sklearn.preprocessing import OneHotEncoder, OrdinalEncoder, LabelEncoder\n",
    "lbl_enc = LabelEncoder()\n",
    "ord_enc = OrdinalEncoder()"
   ]
  },
  {
   "cell_type": "code",
   "execution_count": null,
   "metadata": {},
   "outputs": [],
   "source": [
    "from sklearn.preprocessing import OneHotEncoder, LabelEncoder\n",
    "lbl_enc = LabelEncoder()\n",
    "\n",
    "for i in [9,10,13,14,18]:\n",
    "    cat[cat.columns[i]] = lbl_enc.fit_transform(cat[cat.columns[i]])"
   ]
  },
  {
   "cell_type": "code",
   "execution_count": null,
   "metadata": {},
   "outputs": [],
   "source": [
    "cat.drop(cat_n_null.columns[[0,1,2,3,4,5,6,7,8,11,12,15,16,17]], axis=1, inplace=True)"
   ]
  },
  {
   "cell_type": "code",
   "execution_count": null,
   "metadata": {},
   "outputs": [],
   "source": [
    "cat1 = pd.concat([cat, ohe_col], axis=1)\n",
    "cat1.head()"
   ]
  },
  {
   "cell_type": "markdown",
   "metadata": {},
   "source": [
    "###  Impute"
   ]
  },
  {
   "cell_type": "code",
   "execution_count": null,
   "metadata": {},
   "outputs": [],
   "source": [
    "from sklearn.impute._iterative import IterativeImputer\n",
    "imputer_it = IterativeImputer()\n",
    "imputer_it.fit(cat1)"
   ]
  },
  {
   "cell_type": "markdown",
   "metadata": {},
   "source": [
    "#### Categorical features with na"
   ]
  },
  {
   "cell_type": "code",
   "execution_count": null,
   "metadata": {
    "scrolled": false
   },
   "outputs": [],
   "source": [
    "categorical_df = X[categorical_feature]\n",
    "categorical_df.head()"
   ]
  },
  {
   "cell_type": "code",
   "execution_count": null,
   "metadata": {},
   "outputs": [],
   "source": [
    "cat_w_na = categorical_df[categorical_df.isna().any(axis=1)]\n",
    "print(cat_w_na.shape)\n",
    "cat_w_na.head()"
   ]
  },
  {
   "cell_type": "markdown",
   "metadata": {},
   "source": [
    "#### Impute The Value"
   ]
  },
  {
   "cell_type": "code",
   "execution_count": null,
   "metadata": {},
   "outputs": [],
   "source": [
    "cat_imp = cat_w_na.copy()\n",
    "\n",
    "ohe_col_imp = pd.get_dummies(cat_imp[cat_imp.columns[[0,1,2,3,4,5,6,7,8,11,12,15,16,17]]], drop_first=True)\n",
    "\n",
    "from sklearn.preprocessing import OneHotEncoder, OrdinalEncoder, LabelEncoder\n",
    "lbl_enc = LabelEncoder()\n",
    "ord_enc = OrdinalEncoder()\n",
    "\n",
    "from sklearn.preprocessing import OneHotEncoder, LabelEncoder\n",
    "lbl_enc = LabelEncoder()\n",
    "\n",
    "for i in [9,10,13,14,18]:\n",
    "    cat_imp[cat_imp.columns[i]] = lbl_enc.fit_transform(cat_imp[cat_imp.columns[i]])\n",
    "    \n",
    "cat_imp.drop(cat_w_na.columns[[0,1,2,3,4,5,6,7,8,11,12,15,16,17]], axis=1, inplace=True)\n",
    "\n",
    "cat_imp1 = pd.concat([cat_imp, ohe_col], axis=1)\n",
    "cat_imp1.head()"
   ]
  },
  {
   "cell_type": "code",
   "execution_count": null,
   "metadata": {},
   "outputs": [],
   "source": [
    "cat_imp1[\"Birth asphyxia\"].unique()"
   ]
  },
  {
   "cell_type": "code",
   "execution_count": null,
   "metadata": {},
   "outputs": [],
   "source": []
  },
  {
   "cell_type": "code",
   "execution_count": null,
   "metadata": {},
   "outputs": [],
   "source": []
  },
  {
   "cell_type": "code",
   "execution_count": null,
   "metadata": {},
   "outputs": [],
   "source": [
    "cat_w_na.iteritems"
   ]
  },
  {
   "cell_type": "code",
   "execution_count": null,
   "metadata": {
    "scrolled": true
   },
   "outputs": [],
   "source": [
    "for i in cat_w_na.iteritems():\n",
    "    print(i[1])"
   ]
  },
  {
   "cell_type": "code",
   "execution_count": null,
   "metadata": {},
   "outputs": [],
   "source": []
  },
  {
   "cell_type": "code",
   "execution_count": null,
   "metadata": {},
   "outputs": [],
   "source": [
    "for i in cat_w_na.iterrows().any:\n",
    "    print(i)"
   ]
  },
  {
   "cell_type": "code",
   "execution_count": null,
   "metadata": {},
   "outputs": [],
   "source": []
  },
  {
   "cell_type": "code",
   "execution_count": null,
   "metadata": {},
   "outputs": [],
   "source": []
  },
  {
   "cell_type": "code",
   "execution_count": null,
   "metadata": {},
   "outputs": [],
   "source": [
    "categorical_df.columns"
   ]
  },
  {
   "cell_type": "code",
   "execution_count": null,
   "metadata": {},
   "outputs": [],
   "source": [
    "#instantiate both packages to use\n",
    "encoder = OrdinalEncoder()\n",
    "imputer = KNN()\n",
    "# create a list of categorical columns to iterate over\n",
    "cat_cols = categorical_df.columns\n",
    "\n",
    "def encode(data):\n",
    "    '''function to encode non-null data and replace it in the original data'''\n",
    "    #retains only non-null values\n",
    "    nonulls = np.array(cat_n_null.dropna())\n",
    "    #reshapes the data for encoding\n",
    "    impute_reshape = nonulls.reshape(-1,1)\n",
    "    #encode date\n",
    "    impute_ordinal = encoder.fit_transform(impute_reshape)\n",
    "    #Assign back encoded values to non-null values\n",
    "    categorical_df.columns.loc[categorical_df.columns.notnull()] = np.squeeze(impute_ordinal)\n",
    "    return categorical_df.columns\n",
    "\n",
    "#create a for loop to iterate through each column in the data\n",
    "for columns in cat_cols:\n",
    "    encode(impute_data[columns])"
   ]
  },
  {
   "cell_type": "code",
   "execution_count": null,
   "metadata": {
    "scrolled": true
   },
   "outputs": [],
   "source": [
    "#instantiate both packages to use\n",
    "encoder = OrdinalEncoder()\n",
    "#imputer = KNN()\n",
    "# create a list of categorical columns to iterate over\n",
    "cat_cols = categorical_df.columns\n",
    "\n",
    "def encode(data):\n",
    "    '''function to encode non-null data and replace it in the original data'''\n",
    "    #retains only non-null values\n",
    "    nonulls = np.array(data.dropna())\n",
    "    #reshapes the data for encoding\n",
    "    impute_reshape = nonulls.reshape(-1,1)\n",
    "    #encode date\n",
    "    impute_ordinal = encoder.fit_transform(impute_reshape)\n",
    "    #Assign back encoded values to non-null values\n",
    "    data.loc[data.notnull()] = np.squeeze(impute_ordinal)\n",
    "    return data\n",
    "\n",
    "#create a for loop to iterate through each column in the data\n",
    "for columns in cat_cols:\n",
    "    encode(categorical_df)"
   ]
  },
  {
   "cell_type": "markdown",
   "metadata": {},
   "source": [
    "#### 1st"
   ]
  },
  {
   "cell_type": "code",
   "execution_count": null,
   "metadata": {
    "scrolled": true
   },
   "outputs": [],
   "source": [
    "nonulls = np.array(data['Gender'].dropna())\n",
    "nonulls"
   ]
  },
  {
   "cell_type": "code",
   "execution_count": null,
   "metadata": {},
   "outputs": [],
   "source": [
    "impute_reshape = nonulls.reshape(-1,1)\n",
    "impute_reshape"
   ]
  },
  {
   "cell_type": "code",
   "execution_count": null,
   "metadata": {},
   "outputs": [],
   "source": [
    "encoder = OrdinalEncoder()\n",
    "\n",
    "impute_ordinal = encoder.fit_transform(impute_reshape)\n",
    "impute_ordinal"
   ]
  },
  {
   "cell_type": "code",
   "execution_count": null,
   "metadata": {
    "scrolled": true
   },
   "outputs": [],
   "source": [
    "data.loc[data['Gender'].notnull()] = np.squeeze(impute_ordinal)"
   ]
  },
  {
   "cell_type": "code",
   "execution_count": null,
   "metadata": {
    "scrolled": true
   },
   "outputs": [],
   "source": [
    "data.loc[data['Gender'].notnull()] = "
   ]
  },
  {
   "cell_type": "code",
   "execution_count": null,
   "metadata": {
    "scrolled": true
   },
   "outputs": [],
   "source": [
    "data.loc[data.notnull()] = np.squeeze(impute_ordinal)\n",
    "data"
   ]
  },
  {
   "cell_type": "markdown",
   "metadata": {},
   "source": [
    "#### 2nd"
   ]
  },
  {
   "cell_type": "code",
   "execution_count": null,
   "metadata": {
    "scrolled": true
   },
   "outputs": [],
   "source": [
    "nonullss = data['Gender'].dropna()\n",
    "nonullss"
   ]
  },
  {
   "cell_type": "code",
   "execution_count": null,
   "metadata": {},
   "outputs": [],
   "source": [
    "impute_reshapes = nonulls.reshape(-1,1)\n",
    "impute_reshapes"
   ]
  },
  {
   "cell_type": "code",
   "execution_count": null,
   "metadata": {},
   "outputs": [],
   "source": [
    "encoder = OrdinalEncoder()\n",
    "\n",
    "impute_ordinals = encoder.fit_transform(impute_reshapes)\n",
    "impute_ordinals"
   ]
  },
  {
   "cell_type": "code",
   "execution_count": null,
   "metadata": {},
   "outputs": [],
   "source": [
    "data.loc[data.notnull()] = np.squeeze(impute_ordinals)\n",
    "data"
   ]
  },
  {
   "cell_type": "code",
   "execution_count": null,
   "metadata": {},
   "outputs": [],
   "source": []
  },
  {
   "cell_type": "code",
   "execution_count": null,
   "metadata": {},
   "outputs": [],
   "source": []
  },
  {
   "cell_type": "markdown",
   "metadata": {},
   "source": [
    "### Oderring"
   ]
  },
  {
   "cell_type": "code",
   "execution_count": null,
   "metadata": {},
   "outputs": [],
   "source": [
    "categorical_df.head()"
   ]
  },
  {
   "cell_type": "code",
   "execution_count": null,
   "metadata": {
    "scrolled": true
   },
   "outputs": [],
   "source": [
    "for i in categorical_df:\n",
    "    print(\"\\n\")\n",
    "    print(categorical_df[i].value_counts())\n",
    "    "
   ]
  },
  {
   "cell_type": "code",
   "execution_count": null,
   "metadata": {},
   "outputs": [],
   "source": [
    "# {\"slightly abnormal\":0, \"inconclusive\":1, \"normal\":2, \"abnormal\":3}\n",
    "# {\"Singular\":0, \"Multiple\":1}\n",
    "# {\"Yes\":1, \"No\":0}\n",
    "# {\"Yes\":1, \"No\":0, \"-\":2, \"Not applicable\":3}\n",
    "# {\"Yes\":1, \"No\":0, \"None\":2, \"Not applicable\":3}\n",
    "# {\"Low\":0, \"High\":1}\n",
    "# {\"Male\":0, \"Female\":1, \"Ambiguous\":2}\n",
    "# {\"Yes\":1, \"No\":0, \"No record\":2, \"Not applicable\":3}\n",
    "# {\"Alive\":0, \"Deceased\":1}\n",
    "# {\"Normal (30-60)\":0, \"Tachypnea\":1}\n",
    "# {\"Normal\":0, \"Tachycardia\":1}"
   ]
  },
  {
   "cell_type": "code",
   "execution_count": null,
   "metadata": {
    "scrolled": true
   },
   "outputs": [],
   "source": [
    "for col in categorical_df:\n",
    "    print(\"\\n\\n\")\n",
    "    print(col)\n",
    "    print(categorical_df[col])\n",
    "    print(\"\\n\")\n",
    "    vl_cnts = [vc for vc in categorical_df[col].value_counts().keys()]\n",
    "    print(vl_cnts)\n",
    "    dictn = {}\n",
    "    print(\"\\n\")\n",
    "    \n",
    "    for encode_value, index_no in enumerate(vl_cnts):\n",
    "        dictn[index_no] = encode_value\n",
    "        \n",
    "    print(dictn)\n",
    "    \n",
    "    categorical_df[col] = categorical_df[col].map(dictn)"
   ]
  },
  {
   "cell_type": "code",
   "execution_count": null,
   "metadata": {
    "scrolled": true
   },
   "outputs": [],
   "source": [
    "categorical_df.head()"
   ]
  },
  {
   "cell_type": "code",
   "execution_count": null,
   "metadata": {},
   "outputs": [],
   "source": []
  },
  {
   "cell_type": "code",
   "execution_count": null,
   "metadata": {},
   "outputs": [],
   "source": []
  }
 ],
 "metadata": {
  "kernelspec": {
   "display_name": "Python 3",
   "language": "python",
   "name": "python3"
  },
  "language_info": {
   "codemirror_mode": {
    "name": "ipython",
    "version": 3
   },
   "file_extension": ".py",
   "mimetype": "text/x-python",
   "name": "python",
   "nbconvert_exporter": "python",
   "pygments_lexer": "ipython3",
   "version": "3.8.5"
  }
 },
 "nbformat": 4,
 "nbformat_minor": 4
}
